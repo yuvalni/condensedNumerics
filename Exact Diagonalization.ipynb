{
 "cells": [
  {
   "cell_type": "markdown",
   "metadata": {},
   "source": [
    "# Representaiton of the basis and basic bitwise operators"
   ]
  },
  {
   "cell_type": "markdown",
   "metadata": {},
   "source": [
    "## Variable types and binary representation"
   ]
  },
  {
   "cell_type": "markdown",
   "metadata": {},
   "source": [
    "Default is 64-bit representation"
   ]
  },
  {
   "cell_type": "code",
   "execution_count": 1,
   "metadata": {
    "collapsed": false
   },
   "outputs": [
    {
     "data": {
      "text/plain": [
       "(Int64, Float64)"
      ]
     },
     "execution_count": 1,
     "metadata": {},
     "output_type": "execute_result"
    }
   ],
   "source": [
    "typeof(1), typeof(1.)"
   ]
  },
  {
   "cell_type": "markdown",
   "metadata": {},
   "source": [
    "But we can explicitly construct other types"
   ]
  },
  {
   "cell_type": "code",
   "execution_count": 2,
   "metadata": {
    "collapsed": false
   },
   "outputs": [
    {
     "data": {
      "text/plain": [
       "\"00000001\""
      ]
     },
     "execution_count": 2,
     "metadata": {},
     "output_type": "execute_result"
    }
   ],
   "source": [
    "x = Int8(1)\n",
    "bitstring(x)"
   ]
  },
  {
   "cell_type": "markdown",
   "metadata": {},
   "source": [
    "***Use signed integers with caution!***"
   ]
  },
  {
   "cell_type": "code",
   "execution_count": 3,
   "metadata": {
    "collapsed": false
   },
   "outputs": [
    {
     "data": {
      "text/plain": [
       "(\"01111111\", \"10000000\", \"11111111\")"
      ]
     },
     "execution_count": 3,
     "metadata": {},
     "output_type": "execute_result"
    }
   ],
   "source": [
    "bitstring(Int8(127)), bitstring(Int8(-128)), bitstring(Int8(-1))"
   ]
  },
  {
   "cell_type": "code",
   "execution_count": 4,
   "metadata": {
    "collapsed": false
   },
   "outputs": [
    {
     "name": "stdout",
     "output_type": "stream",
     "text": [
      "255"
     ]
    }
   ],
   "source": [
    "z = parse(UInt8, \"11111111\", base=2)\n",
    "print(z)"
   ]
  },
  {
   "cell_type": "code",
   "execution_count": 5,
   "metadata": {
    "collapsed": false
   },
   "outputs": [
    {
     "data": {
      "text/plain": [
       "(\"00101010\", 3)"
      ]
     },
     "execution_count": 5,
     "metadata": {},
     "output_type": "execute_result"
    }
   ],
   "source": [
    "x = UInt8(42)\n",
    "bitstring(x), Base.count_ones(x)"
   ]
  },
  {
   "cell_type": "markdown",
   "metadata": {},
   "source": [
    "## Bitwise operations"
   ]
  },
  {
   "cell_type": "code",
   "execution_count": 6,
   "metadata": {
    "collapsed": false
   },
   "outputs": [
    {
     "name": "stdout",
     "output_type": "stream",
     "text": [
      "4"
     ]
    },
    {
     "data": {
      "text/plain": [
       "(\"00000001\", \"00000100\")"
      ]
     },
     "execution_count": 6,
     "metadata": {},
     "output_type": "execute_result"
    }
   ],
   "source": [
    "x = UInt8(1)\n",
    "y = x << 2\n",
    "print(y)\n",
    "bitstring(x), bitstring(y)"
   ]
  },
  {
   "cell_type": "code",
   "execution_count": 7,
   "metadata": {
    "collapsed": false
   },
   "outputs": [
    {
     "data": {
      "text/plain": [
       "(\"00000000\", \"00000101\")"
      ]
     },
     "execution_count": 7,
     "metadata": {},
     "output_type": "execute_result"
    }
   ],
   "source": [
    "bitstring(x & y), bitstring(x | y)"
   ]
  },
  {
   "cell_type": "markdown",
   "metadata": {},
   "source": [
    "XOR (exclusive or) (to type use \\xor + tab) -> useful for spin-flip operations"
   ]
  },
  {
   "cell_type": "code",
   "execution_count": 8,
   "metadata": {
    "collapsed": false
   },
   "outputs": [
    {
     "data": {
      "text/plain": [
       "(\"00000101\", \"00000111\", \"00000010\")"
      ]
     },
     "execution_count": 8,
     "metadata": {},
     "output_type": "execute_result"
    }
   ],
   "source": [
    "z = x | y\n",
    "f = parse(UInt8, \"111\", base=2)\n",
    "bitstring(z), bitstring(f), bitstring(z ⊻ f)"
   ]
  },
  {
   "cell_type": "markdown",
   "metadata": {},
   "source": [
    "# S=1/2 Heisenberg chain"
   ]
  },
  {
   "cell_type": "markdown",
   "metadata": {},
   "source": [
    "We'll now consider the 1D Heisenberg Hamiltonian $H = J \\sum_{i=1}^{N-1} \\vec{S}_i \\cdot \\vec{S}_{i+1}$\n",
    "\n",
    "Denoting $S^\\alpha = \\frac{1}{2}\\sigma^\\alpha$, where $\\sigma^\\alpha$ ($\\alpha=x,y,z$) are the Pauli matrices we have $H_i = J \\sum_i \\left[ \\frac{1}{2}\\left(\\sigma^+_i \\sigma^-_{i+1} +\\sigma^-_i \\sigma^+_{i+1}\\right) + \\frac{1}{4} \\sigma^z_i \\sigma^z_{i+1} \\right]$"
   ]
  },
  {
   "cell_type": "markdown",
   "metadata": {},
   "source": [
    "## Explicit construction of the Hamiltonian"
   ]
  },
  {
   "cell_type": "code",
   "execution_count": 9,
   "metadata": {
    "collapsed": true
   },
   "outputs": [],
   "source": [
    "using SparseArrays"
   ]
  },
  {
   "cell_type": "code",
   "execution_count": 10,
   "metadata": {
    "collapsed": false
   },
   "outputs": [
    {
     "data": {
      "text/plain": [
       "FlipSpins"
      ]
     },
     "execution_count": 10,
     "metadata": {},
     "output_type": "execute_result"
    }
   ],
   "source": [
    "\"Flip spins at positions i and j in state x\"\n",
    "function FlipSpins(x,i,j)\n",
    "    f = typeof(x)(1)<<(i-1) | typeof(x)(1)<<(j-1) \n",
    "    return x ⊻ f\n",
    "end"
   ]
  },
  {
   "cell_type": "code",
   "execution_count": 11,
   "metadata": {
    "collapsed": false
   },
   "outputs": [
    {
     "data": {
      "text/plain": [
       "(\"00000010\", \"00000001\")"
      ]
     },
     "execution_count": 11,
     "metadata": {},
     "output_type": "execute_result"
    }
   ],
   "source": [
    "x = UInt8(2)\n",
    "xf = FlipSpins(x, 1, 2)\n",
    "bitstring(x), bitstring(xf)"
   ]
  },
  {
   "cell_type": "code",
   "execution_count": 12,
   "metadata": {
    "collapsed": false
   },
   "outputs": [
    {
     "data": {
      "text/plain": [
       "ConstructHeisenbergHamiltonian (generic function with 1 method)"
      ]
     },
     "execution_count": 12,
     "metadata": {},
     "output_type": "execute_result"
    }
   ],
   "source": [
    "function ConstructHeisenbergHamiltonian(N)\n",
    "    \n",
    "    H = spzeros(2^N,2^N) # sparse matrix, will actually store only non-zero values, \n",
    "                         # i.e. no storage is allocated upon construction\n",
    "\n",
    "    # Iterate over all the states in the basis |a> and calculate the nonzero matrix elements <b|H|a>\n",
    "    # Recall that H = \\sum_i H_{i,i+1}\n",
    "    for a in range(0, length = 2^N)\n",
    "\n",
    "        for i in range(1, length = N)\n",
    "            j = mod(i,N)+1 # periodic boundary conditions\n",
    "            si = ( a & 1<<(i-1) ) >> (i-1)\n",
    "            sj = ( a & 1<<(j-1) ) >> (j-1)\n",
    "\n",
    "            if si == sj\n",
    "                H[a+1,a+1] += 1/4 # indexing in Julia is 1-based !!!\n",
    "            else\n",
    "                H[a+1,a+1] += - 1/4\n",
    "                b = FlipSpins(a,i,j)\n",
    "                H[a+1,b+1] = 1/2\n",
    "            end\n",
    "        end\n",
    "    end\n",
    "    \n",
    "    return H\n",
    "end"
   ]
  },
  {
   "cell_type": "code",
   "execution_count": 13,
   "metadata": {
    "collapsed": false
   },
   "outputs": [
    {
     "name": "stdout",
     "output_type": "stream",
     "text": [
      "  0.248969 seconds (360.84 k allocations: 20.570 MiB, 6.17% gc time)\n"
     ]
    }
   ],
   "source": [
    "N = 12\n",
    "@time H = ConstructHeisenbergHamiltonian(N);"
   ]
  },
  {
   "cell_type": "code",
   "execution_count": 14,
   "metadata": {
    "collapsed": true
   },
   "outputs": [],
   "source": [
    "using LinearAlgebra"
   ]
  },
  {
   "cell_type": "code",
   "execution_count": 15,
   "metadata": {
    "collapsed": true
   },
   "outputs": [],
   "source": [
    "fullH = Matrix(H);"
   ]
  },
  {
   "cell_type": "code",
   "execution_count": 23,
   "metadata": {
    "collapsed": false
   },
   "outputs": [
    {
     "name": "stdout",
     "output_type": "stream",
     "text": [
      " 12.462567 seconds (14 allocations: 129.469 MiB, 0.41% gc time)\n",
      "Ground state energy is -5.387390917445213\n"
     ]
    }
   ],
   "source": [
    "@time En = eigvals(fullH);\n",
    "println(\"Ground state energy is \", En[1])"
   ]
  },
  {
   "cell_type": "markdown",
   "metadata": {},
   "source": [
    "Full diagonalization scales as $t\\sim O({\\rm dim} H ^3$)"
   ]
  },
  {
   "cell_type": "code",
   "execution_count": 20,
   "metadata": {
    "collapsed": false
   },
   "outputs": [],
   "source": [
    "using Arpack"
   ]
  },
  {
   "cell_type": "code",
   "execution_count": 22,
   "metadata": {
    "collapsed": false
   },
   "outputs": [
    {
     "name": "stdout",
     "output_type": "stream",
     "text": [
      "  0.159019 seconds (1.80 k allocations: 912.234 KiB)\n",
      "Ground state energy is -5.38739091744521\n"
     ]
    }
   ],
   "source": [
    "@time res = eigs(H; nev=10, which=:LM, ritzvec=false) # Using Lanczos to calculate lowes!\n",
    "En = res[1]\n",
    "println(\"Ground state energy is \", En[1])"
   ]
  },
  {
   "cell_type": "markdown",
   "metadata": {},
   "source": [
    "Diagonalization with Lanczos scales as $t\\sim O({\\rm dim} H)$, i.e. factor of 2 for each extra spin"
   ]
  }
 ],
 "metadata": {
  "anaconda-cloud": {},
  "kernelspec": {
   "display_name": "Julia 1.5.1",
   "language": "julia",
   "name": "julia-1.5"
  },
  "language_info": {
   "file_extension": ".jl",
   "mimetype": "application/julia",
   "name": "julia",
   "version": "1.5.1"
  }
 },
 "nbformat": 4,
 "nbformat_minor": 2
}
