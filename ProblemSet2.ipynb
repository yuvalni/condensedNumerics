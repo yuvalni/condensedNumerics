{
 "cells": [
  {
   "cell_type": "code",
   "execution_count": 39,
   "metadata": {
    "collapsed": false,
    "jupyter": {
     "outputs_hidden": false
    }
   },
   "outputs": [],
   "source": [
    "using Random, Statistics, PyPlot, Polynomials"
   ]
  },
  {
   "cell_type": "markdown",
   "metadata": {},
   "source": [
    "# finding π"
   ]
  },
  {
   "cell_type": "code",
   "execution_count": 60,
   "metadata": {
    "collapsed": false,
    "jupyter": {
     "outputs_hidden": false
    }
   },
   "outputs": [],
   "source": [
    "numOfIterations = 100_000_000\n",
    "#xs_i = zeros(Float64,numOfIterations)\n",
    "#ys_i = zeros(Float64,numOfIterations)\n",
    "#xs_o = zeros(Float64,numOfIterations)\n",
    "#ys_o = zeros(Float64,numOfIterations)\n",
    "my_pi = zeros(Float64,floor(Int,log(10,numOfIterations))-1)\n",
    "idx = zeros(Float64,floor(Int,log(10,numOfIterations))-1)\n",
    "inside = 0.\n",
    "j=1\n",
    "for i in range(1,stop = numOfIterations)\n",
    "    x = rand(Float64)\n",
    "    y = rand(Float64)\n",
    "    if (x-0.5)^2 + (y-0.5)^2 < 0.5^2 #inside the circle\n",
    "        #xs_i[i] = x\n",
    "        #ys_i[i] = y\n",
    "        inside += 1.\n",
    "    end\n",
    "    if isinteger(log(10,i))\n",
    "        my_pi[j] =   4 * (inside / i)\n",
    "        idx[j] = i\n",
    "        j+=1\n",
    "    end\n",
    "    \n",
    "    \n",
    "end\n"
   ]
  },
  {
   "cell_type": "code",
   "execution_count": 61,
   "metadata": {},
   "outputs": [
    {
     "data": {
      "image/png": "[encoded data removed]",
      "text/plain": [
       "Figure(PyObject <Figure size 1000x700 with 2 Axes>)"
      ]
     },
     "metadata": {},
     "output_type": "display_data"
    },
    {
     "name": "stdout",
     "output_type": "stream",
     "text": [
      "3.14166872\n",
      "-5\n"
     ]
    }
   ],
   "source": [
    "fig, ax = subplots(2,1, figsize=(10,7),sharex=true)\n",
    "\n",
    "\n",
    "ax[1].plot(idx,my_pi,\"o-\")\n",
    "\n",
    "ax[2].scatter(idx,abs.(my_pi.- π))\n",
    "yscale(\"log\")\n",
    "xscale(\"log\")\n",
    "#fig,ax = subplots(1,1,figsize=(5,5))\n",
    "#ax.scatter(xs_i,ys_i,color=\"blue\",s=0.5)\n",
    "#ax.scatter(xs_o,ys_o,color=\"orange\",s=0.5)\n",
    "println(my_pi[end])\n",
    "println(floor(Int,log(10,abs(my_pi[end]-π))))"
   ]
  },
  {
   "cell_type": "markdown",
   "metadata": {},
   "source": [
    "# XY MonteCarlo"
   ]
  },
  {
   "cell_type": "code",
   "execution_count": 35,
   "metadata": {
    "collapsed": false,
    "jupyter": {
     "outputs_hidden": false
    }
   },
   "outputs": [
    {
     "data": {
      "text/plain": [
       "NearestNeighbors (generic function with 1 method)"
      ]
     },
     "execution_count": 35,
     "metadata": {},
     "output_type": "execute_result"
    }
   ],
   "source": [
    "struct Point2D\n",
    "    x::Int64\n",
    "    y::Int64\n",
    "end\n",
    "\n",
    "struct SquareLattice\n",
    "    Nx::Int64\n",
    "    Ny::Int64    \n",
    "end\n",
    "\n",
    "import Base.length\n",
    "function length(lat::SquareLattice)\n",
    "    return lat.Nx*lat.Ny\n",
    "end\n",
    "\n",
    "function PointToIndex(lat::SquareLattice, r::Point2D)\n",
    "    @assert r.x <= lat.Nx \"Site x coordinate exceeding lattice length\"\n",
    "    @assert r.y <= lat.Ny \"Site y coordinate exceeding lattice width\"\n",
    "    \n",
    "    return (r.y-1)*lat.Nx + r.x\n",
    "end\n",
    "\n",
    "function IndexToPoint(lat::SquareLattice, ind::Int64)\n",
    "    \n",
    "    @assert ind <= length(lat) \"Site index exceeding lattice size\"\n",
    "    \n",
    "    y = div(ind-1, lat.Nx)+1\n",
    "    x = mod(ind-1, lat.Nx)+1\n",
    "\n",
    "    return Point2D(x,y)\n",
    "end\n",
    "    \n",
    "function NearestNeighbors(lat::SquareLattice, ind::Int64)\n",
    "\n",
    "    r = IndexToPoint(lat, ind)\n",
    "    \n",
    "    nn = zeros(Int64,4)\n",
    "    \n",
    "    xp = mod(r.x, lat.Nx)+1\n",
    "    yp = mod(r.y, lat.Ny)+1\n",
    "    xm = mod(r.x-2, lat.Nx)+1\n",
    "    ym = mod(r.y-2, lat.Ny)+1\n",
    "    \n",
    "    nn[1] = PointToIndex(lat, Point2D(xm, r.y) )\n",
    "    nn[2] = PointToIndex(lat, Point2D(xp, r.y) )\n",
    "    nn[3] = PointToIndex(lat, Point2D(r.x, ym) )\n",
    "    nn[4] = PointToIndex(lat, Point2D(r.x, yp) )\n",
    "    \n",
    "    return nn\n",
    "end"
   ]
  },
  {
   "cell_type": "markdown",
   "metadata": {},
   "source": [
    "In our case, the configuration will be....  just an angle - meaning a number between 0 and 2π.\n"
   ]
  },
  {
   "cell_type": "code",
   "execution_count": 36,
   "metadata": {
    "collapsed": false,
    "jupyter": {
     "outputs_hidden": false
    }
   },
   "outputs": [
    {
     "data": {
      "text/plain": [
       "XYConfigurationEnergy (generic function with 1 method)"
      ]
     },
     "execution_count": 36,
     "metadata": {},
     "output_type": "execute_result"
    }
   ],
   "source": [
    "function XYConfigurationEnergy(lat::SquareLattice, c::Vector{Int64})\n",
    "    \n",
    "    N = length(lat)\n",
    "    @assert N == length(c) \"Configuration incompatible with lattice size\"\n",
    "    \n",
    "    Ec = 0.\n",
    "    \n",
    "    for j in range(1, length = N)\n",
    "        nn = NearestNeighbors(lat, j)\n",
    "        Ec += sum(map(x->cos(c[j]-c[x]),nn)) #Verify this 🎈\n",
    "    end\n",
    "    return Ec/2 # in the summation above every bond is included twice\n",
    "end"
   ]
  },
  {
   "cell_type": "code",
   "execution_count": 37,
   "metadata": {},
   "outputs": [
    {
     "data": {
      "text/plain": [
       "XYWolffUpdate! (generic function with 1 method)"
      ]
     },
     "execution_count": 37,
     "metadata": {},
     "output_type": "execute_result"
    }
   ],
   "source": [
    "function XYWolffUpdate!(lat::SquareLattice, c::Vector{Int64}, T::Float64)\n",
    "\n",
    "    N = length(lat)\n",
    "    \n",
    "    @assert N == length(c) \"Configuration incompatible with lattice size\"\n",
    "    \n",
    "    #define a random direction: ̂e\n",
    "    dierection = rand(Float64)*2π\n",
    "    \n",
    "    \n",
    "            \n",
    "    ind = rand(1:N) # pick a random site\n",
    "\n",
    "    cluster = Int64[] # indices of spins in the cluster\n",
    "    newlyAdded = Int64[] # indices of newly added neighbors\n",
    "\n",
    "    push!(cluster, ind)\n",
    "    append!(newlyAdded, NearestNeighbors(lat, ind))\n",
    "    \n",
    "    while !isempty(newlyAdded)\n",
    "        j = pop!(newlyAdded)\n",
    "        if j in cluster\n",
    "            continue\n",
    "        end\n",
    "        si_e = cos(c[i]-diraction) # this gives the projection of si on ̂e \n",
    "        sj_e = cos(c[j]-diraction) # this gives the projection of sj on ̂e \n",
    "        p = 1. - exp(-2/T * si_e*sj_e)\n",
    "        if rand() < p # if si_e and sj_e are unti-aligned  p will be negative (i might want to check this!🎈)    \n",
    "            push!(cluster, j)\n",
    "            nn = NearestNeighbors(lat, j)\n",
    "            append!(newlyAdded, nn)\n",
    "        end\n",
    "    end\n",
    "\n",
    "    #flip the cluster!\n",
    "    ## theta'  = -theta -2alpha + pi\n",
    "    c[cluster] = mod(-c[cluster] - 2 * direction + pi,2pi)\n",
    "end"
   ]
  },
  {
   "cell_type": "code",
   "execution_count": 49,
   "metadata": {
    "collapsed": false,
    "jupyter": {
     "outputs_hidden": false
    }
   },
   "outputs": [
    {
     "data": {
      "text/plain": [
       "XYMC (generic function with 2 methods)"
      ]
     },
     "execution_count": 49,
     "metadata": {},
     "output_type": "execute_result"
    }
   ],
   "source": [
    "function XYMC(lat::SquareLattice, T::Float64, Nsw::Int64, saveConfigs = false)\n",
    "    # Nsw is the number of sweeps to perform\n",
    "    \n",
    "    c = rand(Float64, length(lat)) * 2π\n",
    "\n",
    "    if saveConfigs\n",
    "        configs = zeros(Int64, Nsw, length(lat))\n",
    "        configs[1, :] = c\n",
    "    end\n",
    "    \n",
    "    mx = zeros(Float64, Nsw) # value of the X magnetization  per site\n",
    "    my = zeros(Float64, Nsw) # value of the Y magnetization per site\n",
    "    \n",
    "    mx[1] = mean(map(x->cos[x],c))\n",
    "    my[1] = mean(map(x->sin[x],c))\n",
    "    \n",
    "    \n",
    "    En = zeros(Float64, Nsw)\n",
    "    En[1] = IsingConfigurationEnergy(lat, c)\n",
    "    \n",
    "    for i in range(2, stop=Nsw)\n",
    "        XYWolffUpdate!(lat, c, T)\n",
    "        En[i] = XYConfigurationEnergy(lat, c)\n",
    "        \n",
    "        if saveConfigs\n",
    "            configs[i, :] = c\n",
    "        end\n",
    "\n",
    "        mx[i] = mean(map(x->cos[x],c))\n",
    "        my[i] = mean(map(x->sin[x],c))\n",
    "        \n",
    "\n",
    "    end\n",
    "    \n",
    "    if saveConfigs\n",
    "        return mx, my, En, configs\n",
    "    else\n",
    "        return mx, my, En\n",
    "    end\n",
    "    \n",
    "end"
   ]
  },
  {
   "cell_type": "code",
   "execution_count": null,
   "metadata": {},
   "outputs": [],
   "source": []
  }
 ],
 "metadata": {
  "anaconda-cloud": {},
  "kernelspec": {
   "display_name": "Julia 1.6.3",
   "language": "julia",
   "name": "julia-1.6"
  },
  "language_info": {
   "file_extension": ".jl",
   "mimetype": "application/julia",
   "name": "julia",
   "version": "1.6.3"
  }
 },
 "nbformat": 4,
 "nbformat_minor": 4
}
