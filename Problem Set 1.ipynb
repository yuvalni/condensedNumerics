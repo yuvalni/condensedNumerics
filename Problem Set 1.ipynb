{
 "cells": [
  {
   "cell_type": "code",
   "execution_count": 1,
   "metadata": {
    "collapsed": true
   },
   "outputs": [],
   "source": [
    "using SparseArrays, LinearAlgebra, Arpack"
   ]
  },
  {
   "cell_type": "code",
   "execution_count": 2,
   "metadata": {
    "collapsed": false
   },
   "outputs": [],
   "source": [
    "using PyPlot"
   ]
  },
  {
   "cell_type": "markdown",
   "metadata": {},
   "source": [
    "Now we consider this hamiltonian $H = J_1 \\sum_{i=1}^{N-1} \\vec{S}_i \\cdot \\vec{S}_{i+1} + J_2 \\sum_{i=1}^{N-1} \\vec{S}_i \\cdot \\vec{S}_{i+2}$\n",
    "\n",
    "Simmilarly to class we get: $H_i = \\sum_i \\left[ J_1 \\frac{1}{2}\\left(\\sigma^+_i \\sigma^-_{i+1} +\\sigma^-_i \\sigma^+_{i+1}\\right) + \\frac{J_1}{4} \\sigma^z_i \\sigma^z_{i+1}+ J_2 \\frac{1}{2} \\left(\\sigma^+_i \\sigma^-_{i+2} + \\sigma^-_i \\sigma^+_{i+2} \\right) + \\frac{J_2}{4} \\sigma^z_i \\sigma^z_{i+2} \\right]$\n",
    "\n",
    "The construction of the reduced Hamiltonain in the Krylov state is just the same- Only the \"ApplyHeisenbergHamiltonian\" function needs to be modified.\n",
    "\n"
   ]
  },
  {
   "cell_type": "code",
   "execution_count": 3,
   "metadata": {
    "collapsed": false
   },
   "outputs": [
    {
     "data": {
      "text/plain": [
       "FlipSpins"
      ]
     },
     "execution_count": 3,
     "metadata": {},
     "output_type": "execute_result"
    }
   ],
   "source": [
    "\"Flip spins at positions i and j in state x\"\n",
    "function FlipSpins(x,i,j)\n",
    "    f = typeof(x)(1)<<(i-1) | typeof(x)(1)<<(j-1) \n",
    "    return x ⊻ f\n",
    "end"
   ]
  },
  {
   "cell_type": "code",
   "execution_count": 4,
   "metadata": {
    "collapsed": false
   },
   "outputs": [
    {
     "data": {
      "text/plain": [
       "Sz (generic function with 1 method)"
      ]
     },
     "execution_count": 4,
     "metadata": {},
     "output_type": "execute_result"
    }
   ],
   "source": [
    "struct FixedSzBasis\n",
    "    N::Int64\n",
    "    Nup::Int64\n",
    "    states::Vector{Int64}\n",
    "    \n",
    "    function FixedSzBasis(N::Int, Nup::Int)\n",
    "\n",
    "        Ndown = N - Nup\n",
    "\n",
    "        D = binomial(N, Nup)\n",
    "        \n",
    "        println(\"Dimension of subspace with S^z=\", (Nup-Ndown)/2, \" is \", D)\n",
    "\n",
    "        states = zeros(Int, D)\n",
    "\n",
    "        k=1\n",
    "        for a in range(0, length = 2^N) # loop over all basis states\n",
    "            if count_ones(a) == Nup\n",
    "                states[k] = a\n",
    "                k += 1\n",
    "            end\n",
    "        end\n",
    "        \n",
    "        new(N, Nup, states)\n",
    "    end\n",
    "    \n",
    "end\n",
    "\n",
    "import Base.length\n",
    "function length(b::FixedSzBasis)\n",
    "    return length(b.states)\n",
    "end\n",
    "\n",
    "function Sz(b::FixedSzBasis)\n",
    "    Ndown = b.N - b.Nup\n",
    "    return (b.Nup-Ndown)/2\n",
    "end\n",
    "\n"
   ]
  },
  {
   "cell_type": "code",
   "execution_count": 5,
   "metadata": {
    "collapsed": false
   },
   "outputs": [
    {
     "data": {
      "text/plain": [
       "ApplyModifiedHeisenbergHamiltonian (generic function with 1 method)"
      ]
     },
     "execution_count": 5,
     "metadata": {},
     "output_type": "execute_result"
    }
   ],
   "source": [
    "function ApplyModifiedHeisenbergHamiltonian(basis::FixedSzBasis, psi::Vector{Float64},J1::Float64,J2::Float64)\n",
    "    # psi contains the amplitude of each basis state\n",
    "    D = length(basis)\n",
    "    @assert length(psi) == D \"Length of state vector is incompatible with basis size\"\n",
    "    \n",
    "    @assert abs(norm(psi) - 1.) < 1e-14 \"State vector is not normalized\"\n",
    "\n",
    "    phi = zeros(D) # phi = H psi\n",
    "    \n",
    "    for k in range(1, length = D) # loop over basis states\n",
    "\n",
    "        if abs(psi[k])<1e-14 # the amplitude of this basis state vanishes -> skip\n",
    "            continue\n",
    "        end\n",
    "        \n",
    "        a = basis.states[k]\n",
    "        \n",
    "        # act with each term in the Hamiltonian on this basis state \n",
    "        # and update the amplitude of the respective basis state in phi\n",
    "        for i in range(1, length = basis.N) \n",
    "            j = mod(i,basis.N) + 1  # periodic boundary conditions\n",
    "            j2 = mod(i + 1,basis.N) + 1\n",
    "            \n",
    "            si = ( a & 1<<(i-1) ) >> (i-1)\n",
    "            sj = ( a & 1<<(j-1) ) >> (j-1)\n",
    "            sj2 = ( a & 1<<(j2-1) ) >> (j2-1)\n",
    "            \n",
    "            if si == sj\n",
    "                phi[k] += J1/4*psi[k]\n",
    "            else\n",
    "                phi[k] += -J1/4*psi[k]\n",
    "                b = FlipSpins(a,i,j)\n",
    "                l = searchsortedfirst(basis.states,b)\n",
    "                phi[l] +=  J1/2*psi[k]\n",
    "            end\n",
    "            \n",
    "            \n",
    "            if si == sj2\n",
    "                phi[k] += J2/4*psi[k]\n",
    "            else\n",
    "                phi[k] += -J2/4*psi[k]\n",
    "                \n",
    "                b = FlipSpins(a,i,j2)\n",
    "                l = searchsortedfirst(basis.states,b)\n",
    "                phi[l] += J2/2*psi[k]\n",
    "                \n",
    "            end\n",
    "            \n",
    "            \n",
    "            \n",
    "            \n",
    "        end\n",
    "    end\n",
    "    \n",
    "    return phi\n",
    "end"
   ]
  },
  {
   "cell_type": "markdown",
   "metadata": {},
   "source": [
    "# now we will check we get the same values from the lecture for g=0"
   ]
  },
  {
   "cell_type": "code",
   "execution_count": 6,
   "metadata": {
    "collapsed": false
   },
   "outputs": [
    {
     "data": {
      "text/plain": [
       "ApplyHeisenbergHamiltonian (generic function with 1 method)"
      ]
     },
     "execution_count": 6,
     "metadata": {},
     "output_type": "execute_result"
    }
   ],
   "source": [
    "function ApplyHeisenbergHamiltonian(basis::FixedSzBasis, psi::Vector{Float64})\n",
    "    # psi contains the amplitude of each basis state\n",
    "    \n",
    "    D = length(basis)\n",
    "    @assert length(psi) == D \"Length of state vector is incompatible with basis size\"\n",
    "    \n",
    "    @assert abs(norm(psi) - 1.) < 1e-14 \"State vector is not normalized\"\n",
    "\n",
    "    phi = zeros(D) # phi = H psi\n",
    "    \n",
    "    for k in range(1, length = D) # loop over basis states\n",
    "\n",
    "        if abs(psi[k])<1e-14 # the amplitude of this basis state vanishes -> skip\n",
    "            continue\n",
    "        end\n",
    "        \n",
    "        a = basis.states[k]\n",
    "        \n",
    "        # act with each term in the Hamiltonian on this basis state \n",
    "        # and update the amplitude of the respective basis state in phi\n",
    "        for i in range(1, length = basis.N) \n",
    "            j = mod(i,basis.N)+1 # periodic boundary conditions\n",
    "            si = ( a & 1<<(i-1) ) >> (i-1)\n",
    "            sj = ( a & 1<<(j-1) ) >> (j-1)\n",
    "\n",
    "            if si == sj\n",
    "                phi[k] += 1/4*psi[k]\n",
    "            else\n",
    "                phi[k] += -1/4*psi[k]\n",
    "                b = FlipSpins(a,i,j)\n",
    "                l = searchsortedfirst(basis.states,b)\n",
    "                phi[l] +=  1/2*psi[k]\n",
    "            end\n",
    "        end\n",
    "    end\n",
    "    \n",
    "    return phi\n",
    "end"
   ]
  },
  {
   "cell_type": "code",
   "execution_count": 7,
   "metadata": {
    "collapsed": false
   },
   "outputs": [
    {
     "name": "stdout",
     "output_type": "stream",
     "text": [
      "Dimension of subspace with S^z=0.0 is 48620\n"
     ]
    }
   ],
   "source": [
    "N, Nup = 18, 9\n",
    "\n",
    "basis = FixedSzBasis(N,Nup);\n",
    "\n",
    "psi_rand = rand(length(basis))\n",
    "psi = psi_rand\n",
    "psi /= norm(psi)\n",
    "\n",
    "nMax = 500\n",
    "Ek = zeros(nMax)\n",
    "for k in range(1,length=nMax)\n",
    "    Hpsi = ApplyModifiedHeisenbergHamiltonian(basis, psi,1.0,0.0)\n",
    "    Ek[k] = dot(psi, Hpsi)\n",
    "    psi = Hpsi / norm(Hpsi)\n",
    "end"
   ]
  },
  {
   "cell_type": "code",
   "execution_count": 8,
   "metadata": {
    "collapsed": false
   },
   "outputs": [
    {
     "name": "stdout",
     "output_type": "stream",
     "text": [
      "Dimension of subspace with S^z=0.0 is 48620\n"
     ]
    }
   ],
   "source": [
    "N, Nup = 18, 9\n",
    "\n",
    "basis = FixedSzBasis(N,Nup);\n",
    "\n",
    "psi = psi_rand\n",
    "psi /= norm(psi)\n",
    "\n",
    "nMax = 500\n",
    "Ek_class = zeros(nMax)\n",
    "for k in range(1,length=nMax)\n",
    "    Hpsi = ApplyHeisenbergHamiltonian(basis, psi)\n",
    "    Ek_class[k] = dot(psi, Hpsi)\n",
    "    psi = Hpsi / norm(Hpsi)\n",
    "end"
   ]
  },
  {
   "cell_type": "code",
   "execution_count": 9,
   "metadata": {
    "collapsed": false
   },
   "outputs": [
    {
     "data": {
      "image/png": "[encoded data removed]",
      "text/plain": [
       "Figure(PyObject <Figure size 640x480 with 1 Axes>)"
      ]
     },
     "metadata": {},
     "output_type": "display_data"
    },
    {
     "data": {
      "text/plain": [
       "1-element Array{PyCall.PyObject,1}:\n",
       " PyObject <matplotlib.lines.Line2D object at 0x0000000001317128>"
      ]
     },
     "execution_count": 9,
     "metadata": {},
     "output_type": "execute_result"
    }
   ],
   "source": [
    "plot(Ek_class)"
   ]
  },
  {
   "cell_type": "code",
   "execution_count": 10,
   "metadata": {
    "collapsed": false,
    "scrolled": true
   },
   "outputs": [
    {
     "name": "stdout",
     "output_type": "stream",
     "text": [
      "Success! 🎉\n"
     ]
    }
   ],
   "source": [
    "nMax = 500\n",
    "sum = 0 \n",
    "for k in range(1,length=nMax)\n",
    "    sum += abs(Ek_class[k]-Ek[k])\n",
    "end\n",
    "if(sum==0)\n",
    "    println(\"Success! 🎉\")\n",
    "else\n",
    "    println(\"Fail. 🤨\")\n",
    "end\n"
   ]
  },
  {
   "cell_type": "markdown",
   "metadata": {},
   "source": [
    "# Now, start with Lanczos"
   ]
  },
  {
   "cell_type": "code",
   "execution_count": 11,
   "metadata": {
    "collapsed": false
   },
   "outputs": [
    {
     "data": {
      "text/plain": [
       "ConstructModifiedReducedHamiltonian (generic function with 2 methods)"
      ]
     },
     "execution_count": 11,
     "metadata": {},
     "output_type": "execute_result"
    }
   ],
   "source": [
    "function ConstructModifiedReducedHamiltonian(basis::FixedSzBasis, nMax::Int64, J1::Float64,J2::Float64, storeVecs = false)\n",
    "    # nMax+1 is the dimension of the Krylov subspace\n",
    "    # storeVecs indicates whether we'd like to store the vectors spanning the Krylov subspace in the original basis - \n",
    "    # this is important if we are interested in calculating expectation values!\n",
    "    \n",
    "    D = length(basis)\n",
    "    Heff = zeros(nMax+1, nMax+1)\n",
    "    \n",
    "    if storeVecs\n",
    "        vecs = zeros(nMax+1, D)\n",
    "    end\n",
    "    \n",
    "    psi0 = rand(D)\n",
    "    psi0 /= norm(psi0)\n",
    "\n",
    "    Hpsi0 = ApplyModifiedHeisenbergHamiltonian(basis, psi0,J1,J2)\n",
    "    a0 = dot(psi0,Hpsi0)\n",
    "\n",
    "    psi1 = Hpsi0 - a0*psi0\n",
    "    N1 = norm(psi1)\n",
    "    psi1 /= N1\n",
    "    \n",
    "    if storeVecs\n",
    "        vecs[1,:] = psi0\n",
    "        vecs[2,:] = psi1\n",
    "    end\n",
    "\n",
    "    psinm = psi0\n",
    "    psin = psi1\n",
    "    Nn = N1\n",
    "\n",
    "    Heff[1,1] = a0\n",
    "    Heff[1,2] = N1\n",
    "\n",
    "    for n in range(1, length=nMax-1)\n",
    "\n",
    "        Heff[n+1,n] = Nn\n",
    "        \n",
    "        Hpsin = ApplyHeisenbergHamiltonian(basis, psin)\n",
    "        an = dot(psin,Hpsin)\n",
    "        \n",
    "        Heff[n+1,n+1] = an\n",
    "        \n",
    "        psinp = Hpsin - an*psin - Nn*psinm\n",
    "        Nn = norm(psinp)\n",
    "\n",
    "        Heff[n+1, n+2] = Nn\n",
    "        \n",
    "        # prepare for next step\n",
    "        psinm = psin\n",
    "        psin = psinp / Nn\n",
    "        \n",
    "        if storeVecs\n",
    "            vecs[n+2,:] = psin\n",
    "        end\n",
    "    end \n",
    "\n",
    "    Heff[nMax+1,nMax] = Nn;\n",
    "    \n",
    "    return storeVecs ? (Heff, vecs) : Heff\n",
    "end\n"
   ]
  },
  {
   "cell_type": "code",
   "execution_count": 12,
   "metadata": {
    "collapsed": false
   },
   "outputs": [
    {
     "data": {
      "text/plain": [
       "ConstructReducedHamiltonian (generic function with 2 methods)"
      ]
     },
     "execution_count": 12,
     "metadata": {},
     "output_type": "execute_result"
    }
   ],
   "source": [
    "function ConstructReducedHamiltonian(basis::FixedSzBasis, nMax::Int64, storeVecs = false)\n",
    "    # nMax+1 is the dimension of the Krylov subspace\n",
    "    # storeVecs indicates whether we'd like to store the vectors spanning the Krylov subspace in the original basis - \n",
    "    # this is important if we are interested in calculating expectation values!\n",
    "    \n",
    "    D = length(basis)\n",
    "    Heff = zeros(nMax+1, nMax+1)\n",
    "    \n",
    "    if storeVecs\n",
    "        vecs = zeros(nMax+1, D)\n",
    "    end\n",
    "    \n",
    "    psi0 = rand(D)\n",
    "    psi0 /= norm(psi0)\n",
    "\n",
    "    Hpsi0 = ApplyHeisenbergHamiltonian(basis, psi0)\n",
    "    a0 = dot(psi0,Hpsi0)\n",
    "\n",
    "    psi1 = Hpsi0 - a0*psi0\n",
    "    N1 = norm(psi1)\n",
    "    psi1 /= N1\n",
    "    \n",
    "    if storeVecs\n",
    "        vecs[1,:] = psi0\n",
    "        vecs[2,:] = psi1\n",
    "    end\n",
    "\n",
    "    psinm = psi0\n",
    "    psin = psi1\n",
    "    Nn = N1\n",
    "\n",
    "    Heff[1,1] = a0\n",
    "    Heff[1,2] = N1\n",
    "\n",
    "    for n in range(1, length=nMax-1)\n",
    "\n",
    "        Heff[n+1,n] = Nn\n",
    "        \n",
    "        Hpsin = ApplyHeisenbergHamiltonian(basis, psin)\n",
    "        an = dot(psin,Hpsin)\n",
    "        \n",
    "        Heff[n+1,n+1] = an\n",
    "        \n",
    "        psinp = Hpsin - an*psin - Nn*psinm\n",
    "        Nn = norm(psinp)\n",
    "\n",
    "        Heff[n+1, n+2] = Nn\n",
    "        \n",
    "        # prepare for next step\n",
    "        psinm = psin\n",
    "        psin = psinp / Nn\n",
    "        \n",
    "        if storeVecs\n",
    "            vecs[n+2,:] = psin\n",
    "        end\n",
    "    end \n",
    "\n",
    "    Heff[nMax+1,nMax] = Nn;\n",
    "    \n",
    "    return storeVecs ? (Heff, vecs) : Heff\n",
    "end\n"
   ]
  },
  {
   "cell_type": "markdown",
   "metadata": {},
   "source": [
    "# Check edge cases"
   ]
  },
  {
   "cell_type": "markdown",
   "metadata": {},
   "source": [
    "## first J1 = 1 J2 = 0"
   ]
  },
  {
   "cell_type": "code",
   "execution_count": 13,
   "metadata": {
    "collapsed": false
   },
   "outputs": [
    {
     "name": "stdout",
     "output_type": "stream",
     "text": [
      "Dimension of subspace with S^z=0.0 is 48620\n"
     ]
    }
   ],
   "source": [
    "N, Nup = 18, 9\n",
    "nMax = 50\n",
    "\n",
    "basis = FixedSzBasis(N,Nup);\n",
    "\n",
    "Heff = ConstructModifiedReducedHamiltonian(basis, nMax,1.0,0.0)\n",
    "Heff2 = ConstructReducedHamiltonian(basis, nMax)\n",
    "\n",
    "Eklanczos = zeros(length(basis))\n",
    "Eklanczos2 = zeros(length(basis))\n",
    "\n",
    "Eklanczos = eigvals(Heff);\n",
    "Eklanczos2 = eigvals(Heff2);\n"
   ]
  },
  {
   "cell_type": "code",
   "execution_count": 14,
   "metadata": {
    "collapsed": false
   },
   "outputs": [
    {
     "name": "stdout",
     "output_type": "stream",
     "text": [
      "[7.283063041541027e-14, 7.737562590648395e-9, 0.003196667874901138, 3.576363205581856e-7, 1.0771856448599237e-5]\n"
     ]
    }
   ],
   "source": [
    "println(abs.(Eklanczos[1:5].-Eklanczos2[1:5]))\n"
   ]
  },
  {
   "cell_type": "markdown",
   "metadata": {},
   "source": [
    "## Second: J1=1 J2=0, J1 =0 J2 = 1 "
   ]
  },
  {
   "cell_type": "markdown",
   "metadata": {},
   "source": [
    "We excpect the 2 cases to have the same energy, since we get two chains with half the bonds."
   ]
  },
  {
   "cell_type": "code",
   "execution_count": 15,
   "metadata": {
    "collapsed": false
   },
   "outputs": [
    {
     "name": "stdout",
     "output_type": "stream",
     "text": [
      "Dimension of subspace with S^z=0.0 is 12870\n",
      "-7.142294045153769\n",
      "-7.142296360616782\n"
     ]
    }
   ],
   "source": [
    "N, Nup = 16, 8\n",
    "nMax = 100\n",
    "\n",
    "basis = FixedSzBasis(N,Nup);\n",
    "\n",
    "Heff = ConstructModifiedReducedHamiltonian(basis, nMax,0.0,1.0)\n",
    "Heff2 = ConstructModifiedReducedHamiltonian(basis, nMax,1.0,0.0)\n",
    "\n",
    "Eg = eigvals(Heff)[1]\n",
    "Eg2 = eigvals(Heff2)[1]\n",
    "println(Eg)\n",
    "println(Eg2)\n"
   ]
  },
  {
   "cell_type": "markdown",
   "metadata": {},
   "source": [
    "# Going forward"
   ]
  },
  {
   "cell_type": "code",
   "execution_count": 16,
   "metadata": {
    "collapsed": false
   },
   "outputs": [],
   "source": [
    "gc = 0.241;\n",
    "gs = [0.0,gc,0.5,1.0];\n"
   ]
  },
  {
   "cell_type": "markdown",
   "metadata": {
    "collapsed": true
   },
   "source": [
    "### triplet gap finite-size scaling"
   ]
  },
  {
   "cell_type": "code",
   "execution_count": 17,
   "metadata": {
    "collapsed": false
   },
   "outputs": [
    {
     "name": "stdout",
     "output_type": "stream",
     "text": [
      "0.0\n",
      "Dimension of subspace with S^z=0.0 is 20\n",
      "Dimension of subspace with S^z=1.0 is 15\n",
      "Dimension of subspace with S^z=0.0 is 70\n",
      "Dimension of subspace with S^z=1.0 is 56\n",
      "Dimension of subspace with S^z=0.0 is 252\n",
      "Dimension of subspace with S^z=1.0 is 210\n",
      "Dimension of subspace with S^z=0.0 is 924\n",
      "Dimension of subspace with S^z=1.0 is 792\n",
      "Dimension of subspace with S^z=0.0 is 3432\n",
      "Dimension of subspace with S^z=1.0 is 3003\n",
      "Dimension of subspace with S^z=0.0 is 12870\n",
      "Dimension of subspace with S^z=1.0 is 11440\n",
      "Dimension of subspace with S^z=0.0 is 48620\n",
      "Dimension of subspace with S^z=1.0 is 43758\n",
      "Dimension of subspace with S^z=0.0 is 184756\n",
      "Dimension of subspace with S^z=1.0 is 167960\n",
      "Dimension of subspace with S^z=0.0 is 705432\n",
      "Dimension of subspace with S^z=1.0 is 646646\n",
      "0.241\n",
      "Dimension of subspace with S^z=0.0 is 20\n",
      "Dimension of subspace with S^z=1.0 is 15\n",
      "Dimension of subspace with S^z=0.0 is 70\n",
      "Dimension of subspace with S^z=1.0 is 56\n",
      "Dimension of subspace with S^z=0.0 is 252\n",
      "Dimension of subspace with S^z=1.0 is 210\n",
      "Dimension of subspace with S^z=0.0 is 924\n",
      "Dimension of subspace with S^z=1.0 is 792\n",
      "Dimension of subspace with S^z=0.0 is 3432\n",
      "Dimension of subspace with S^z=1.0 is 3003\n",
      "Dimension of subspace with S^z=0.0 is 12870\n",
      "Dimension of subspace with S^z=1.0 is 11440\n",
      "Dimension of subspace with S^z=0.0 is 48620\n",
      "Dimension of subspace with S^z=1.0 is 43758\n",
      "Dimension of subspace with S^z=0.0 is 184756\n",
      "Dimension of subspace with S^z=1.0 is 167960\n",
      "Dimension of subspace with S^z=0.0 is 705432\n",
      "Dimension of subspace with S^z=1.0 is 646646\n",
      "0.5\n",
      "Dimension of subspace with S^z=0.0 is 20\n",
      "Dimension of subspace with S^z=1.0 is 15\n",
      "Dimension of subspace with S^z=0.0 is 70\n",
      "Dimension of subspace with S^z=1.0 is 56\n",
      "Dimension of subspace with S^z=0.0 is 252\n",
      "Dimension of subspace with S^z=1.0 is 210\n",
      "Dimension of subspace with S^z=0.0 is 924\n",
      "Dimension of subspace with S^z=1.0 is 792\n",
      "Dimension of subspace with S^z=0.0 is 3432\n",
      "Dimension of subspace with S^z=1.0 is 3003\n",
      "Dimension of subspace with S^z=0.0 is 12870\n",
      "Dimension of subspace with S^z=1.0 is 11440\n",
      "Dimension of subspace with S^z=0.0 is 48620\n",
      "Dimension of subspace with S^z=1.0 is 43758\n",
      "Dimension of subspace with S^z=0.0 is 184756\n",
      "Dimension of subspace with S^z=1.0 is 167960\n",
      "Dimension of subspace with S^z=0.0 is 705432\n",
      "Dimension of subspace with S^z=1.0 is 646646\n",
      "1.0\n",
      "Dimension of subspace with S^z=0.0 is 20\n",
      "Dimension of subspace with S^z=1.0 is 15\n",
      "Dimension of subspace with S^z=0.0 is 70\n",
      "Dimension of subspace with S^z=1.0 is 56\n",
      "Dimension of subspace with S^z=0.0 is 252\n",
      "Dimension of subspace with S^z=1.0 is 210\n",
      "Dimension of subspace with S^z=0.0 is 924\n",
      "Dimension of subspace with S^z=1.0 is 792\n",
      "Dimension of subspace with S^z=0.0 is 3432\n",
      "Dimension of subspace with S^z=1.0 is 3003\n",
      "Dimension of subspace with S^z=0.0 is 12870\n",
      "Dimension of subspace with S^z=1.0 is 11440\n",
      "Dimension of subspace with S^z=0.0 is 48620\n",
      "Dimension of subspace with S^z=1.0 is 43758\n",
      "Dimension of subspace with S^z=0.0 is 184756\n",
      "Dimension of subspace with S^z=1.0 is 167960\n",
      "Dimension of subspace with S^z=0.0 is 705432\n",
      "Dimension of subspace with S^z=1.0 is 646646\n"
     ]
    }
   ],
   "source": [
    "Ns = 6:2:22\n",
    "Inverse_NS = 1 ./Ns\n",
    "Gaps = zeros(Float64,length(gs),length(Ns))\n",
    "\n",
    "nmax=30\n",
    "\n",
    "i = 0\n",
    "k = 0\n",
    "for g in gs\n",
    "    i += 1\n",
    "    k = 0\n",
    "    println(g)\n",
    "    for N in Ns\n",
    "        k += 1\n",
    "        \n",
    "        Nup = Int(N/2)\n",
    "        basis = FixedSzBasis(N,Nup)\n",
    "        psi = rand(length(basis))\n",
    "        psi /= norm(psi)\n",
    "        Hpsi = zeros(length(basis))\n",
    "        \n",
    "        for _ in range(1,length=nMax)\n",
    "            Hpsi = ApplyModifiedHeisenbergHamiltonian(basis, psi,1.0,g)\n",
    "            psi = Hpsi / norm(Hpsi)\n",
    "        end\n",
    "        Eg_0 = dot(psi, Hpsi)\n",
    "        #Heff = ConstructModifiedReducedHamiltonian(basis, nMax,1.0,g)\n",
    "        #Eg_0 = eigvals(Heff)[1]\n",
    "        \n",
    "        basis = FixedSzBasis(N,Nup+1)\n",
    "        psi = rand(length(basis))\n",
    "        psi /= norm(psi)\n",
    "        #Heff = ConstructModifiedReducedHamiltonian(basis, nMax,1.0,g)\n",
    "        for _ in range(1,length=nMax)\n",
    "            Hpsi = ApplyModifiedHeisenbergHamiltonian(basis, psi,1.0,g)\n",
    "            psi = Hpsi / norm(Hpsi)\n",
    "        end\n",
    "        Eg_1 = dot(psi, Hpsi)\n",
    "        \n",
    "        Gaps[i,k] = Eg_1 - Eg_0\n",
    "        \n",
    "         \n",
    "    end\n",
    "end\n"
   ]
  },
  {
   "cell_type": "code",
   "execution_count": 19,
   "metadata": {
    "collapsed": false
   },
   "outputs": [
    {
     "data": {
      "image/png": "[encoded data removed]",
      "text/plain": [
       "Figure(PyObject <Figure size 640x480 with 1 Axes>)"
      ]
     },
     "metadata": {},
     "output_type": "display_data"
    },
    {
     "data": {
      "text/plain": [
       "PyObject <matplotlib.legend.Legend object at 0x00000000015E1048>"
      ]
     },
     "execution_count": 19,
     "metadata": {},
     "output_type": "execute_result"
    }
   ],
   "source": [
    "for (i,g) in enumerate(gs)\n",
    "    plot(Inverse_NS,Gaps[i,:],\"o--\",label=\"g: $g\")\n",
    "    \n",
    "end\n",
    "ylabel(L\"\\Delta\")\n",
    "xlabel(L\"\\frac{1}{N}\")\n",
    "#xlim([0,0.17])\n",
    "#ylim([0,0.7])\n",
    "legend()"
   ]
  },
  {
   "cell_type": "code",
   "execution_count": null,
   "metadata": {
    "collapsed": true
   },
   "outputs": [],
   "source": []
  },
  {
   "cell_type": "code",
   "execution_count": null,
   "metadata": {
    "collapsed": true
   },
   "outputs": [],
   "source": []
  }
 ],
 "metadata": {
  "anaconda-cloud": {},
  "kernelspec": {
   "display_name": "Julia 1.5.1",
   "language": "julia",
   "name": "julia-1.5"
  },
  "language_info": {
   "file_extension": ".jl",
   "mimetype": "application/julia",
   "name": "julia",
   "version": "1.5.1"
  }
 },
 "nbformat": 4,
 "nbformat_minor": 2
}
