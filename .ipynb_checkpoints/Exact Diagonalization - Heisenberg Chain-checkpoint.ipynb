{
 "cells": [
  {
   "cell_type": "code",
   "execution_count": 3,
   "metadata": {
    "collapsed": false
   },
   "outputs": [],
   "source": [
    "using SparseArrays, LinearAlgebra, Arpack, Plots"
   ]
  },
  {
   "cell_type": "markdown",
   "metadata": {},
   "source": [
    "We will consider the 1D Heisenberg Hamiltonian $H = J \\sum_{i=1}^{N-1} \\vec{S}_i \\cdot \\vec{S}_{i+1}$\n",
    "\n",
    "Denoting $S^\\alpha = \\frac{1}{2}\\sigma^\\alpha$, where $\\sigma^\\alpha$ ($\\alpha=x,y,z$) are the Pauli matrices we have $H_i = J \\sum_i \\left[ \\frac{1}{2}\\left(\\sigma^+_i \\sigma^-_{i+1} +\\sigma^-_i \\sigma^+_{i+1}\\right) + \\frac{1}{4} \\sigma^z_i \\sigma^z_{i+1} \\right]$\n"
   ]
  },
  {
   "cell_type": "markdown",
   "metadata": {},
   "source": [
    "# Constructing the Hamiltonian"
   ]
  },
  {
   "cell_type": "code",
   "execution_count": 4,
   "metadata": {
    "collapsed": false
   },
   "outputs": [
    {
     "data": {
      "text/plain": [
       "FlipSpins"
      ]
     },
     "execution_count": 4,
     "metadata": {},
     "output_type": "execute_result"
    }
   ],
   "source": [
    "\"Flip spins at positions i and j in state x\"\n",
    "function FlipSpins(x,i,j)\n",
    "    f = typeof(x)(1)<<(i-1) | typeof(x)(1)<<(j-1) \n",
    "    return x ⊻ f\n",
    "end"
   ]
  },
  {
   "cell_type": "code",
   "execution_count": 5,
   "metadata": {
    "collapsed": false
   },
   "outputs": [
    {
     "data": {
      "text/plain": [
       "(\"00000010\", \"00000001\")"
      ]
     },
     "execution_count": 5,
     "metadata": {},
     "output_type": "execute_result"
    }
   ],
   "source": [
    "x = UInt8(2)\n",
    "xf = FlipSpins(x, 1, 2)\n",
    "bitstring(x), bitstring(xf)"
   ]
  },
  {
   "cell_type": "code",
   "execution_count": 6,
   "metadata": {
    "collapsed": false
   },
   "outputs": [
    {
     "data": {
      "text/plain": [
       "ConstructHeisenbergHamiltonian (generic function with 1 method)"
      ]
     },
     "execution_count": 6,
     "metadata": {},
     "output_type": "execute_result"
    }
   ],
   "source": [
    "function ConstructHeisenbergHamiltonian(N)\n",
    "    \n",
    "    H = spzeros(2^N,2^N) # sparse matrix, will actually store only non-zero values, \n",
    "                         # i.e. no storage is allocated upon construction\n",
    "\n",
    "    # Iterate over all the states in the basis |a> and calculate the nonzero matrix elements <b|H|a>\n",
    "    # Recall that H = \\sum_i H_{i,i+1}\n",
    "    for a in range(0, length = 2^N)\n",
    "\n",
    "        for i in range(1, length = N)\n",
    "            j = mod(i,N)+1 # periodic boundary conditions\n",
    "            si = ( a & 1<<(i-1) ) >> (i-1)\n",
    "            sj = ( a & 1<<(j-1) ) >> (j-1)\n",
    "\n",
    "            if si == sj\n",
    "                H[a+1,a+1] += 1/4 # indexing in Julia is 1-based !!!\n",
    "            else\n",
    "                H[a+1,a+1] += - 1/4\n",
    "                b = FlipSpins(a,i,j)\n",
    "                H[a+1,b+1] = 1/2\n",
    "            end\n",
    "        end\n",
    "    end\n",
    "    \n",
    "    return H\n",
    "end"
   ]
  },
  {
   "cell_type": "code",
   "execution_count": 7,
   "metadata": {
    "collapsed": false
   },
   "outputs": [
    {
     "name": "stdout",
     "output_type": "stream",
     "text": [
      "  0.232091 seconds (360.26 k allocations: 20.530 MiB)\n"
     ]
    }
   ],
   "source": [
    "N = 12\n",
    "@time H = ConstructHeisenbergHamiltonian(N);"
   ]
  },
  {
   "cell_type": "code",
   "execution_count": 8,
   "metadata": {
    "collapsed": false
   },
   "outputs": [
    {
     "name": "stdout",
     "output_type": "stream",
     "text": [
      " 14.082425 seconds (1.22 M allocations: 318.837 MiB, 0.65% gc time)\n",
      "Ground state energy is -5.387390917445213\n"
     ]
    }
   ],
   "source": [
    "@time En = eigvals(Matrix(H));\n",
    "println(\"Ground state energy is \", En[1])"
   ]
  },
  {
   "cell_type": "markdown",
   "metadata": {},
   "source": [
    "# Symmetries - using $S^z$ conservation"
   ]
  },
  {
   "cell_type": "markdown",
   "metadata": {},
   "source": [
    "We will now use $S^z$ conservation and solve the Hamiltonian within a specific magnetization sector.\n",
    "\n",
    "For $S^z=(n_\\uparrow-n_\\downarrow)/2$ (with $N=n_\\uparrow+n_\\downarrow$) this will decrease the dimension of the basis from $2^N$ to $\\frac{N!}{n_\\uparrow! n_\\downarrow!}$ \n",
    "\n",
    "(i.e. choose $n_\\uparrow$ sites out of $N$ to be occupied with spin up, the other $n_\\downarrow=N-n_\\uparrow$ will be occupied with spin down.)"
   ]
  },
  {
   "cell_type": "code",
   "execution_count": 9,
   "metadata": {
    "collapsed": false
   },
   "outputs": [
    {
     "data": {
      "text/plain": [
       "Sz (generic function with 1 method)"
      ]
     },
     "execution_count": 9,
     "metadata": {},
     "output_type": "execute_result"
    }
   ],
   "source": [
    "struct FixedSzBasis\n",
    "    N::Int64\n",
    "    Nup::Int64\n",
    "    states::Vector{Int64}\n",
    "    \n",
    "    function FixedSzBasis(N::Int, Nup::Int)\n",
    "\n",
    "        Ndown = N - Nup\n",
    "\n",
    "        D = binomial(N, Nup)\n",
    "        \n",
    "        println(\"Dimension of subspace with S^z=\", (Nup-Ndown)/2, \" is \", D)\n",
    "\n",
    "        states = zeros(Int, D)\n",
    "\n",
    "        k=1\n",
    "        for a in range(0, length = 2^N) # loop over all basis states\n",
    "            if count_ones(a) == Nup\n",
    "                states[k] = a\n",
    "                k += 1\n",
    "            end\n",
    "        end\n",
    "        \n",
    "        new(N, Nup, states)\n",
    "    end\n",
    "    \n",
    "end\n",
    "\n",
    "import Base.length\n",
    "function length(b::FixedSzBasis)\n",
    "    return length(b.states)\n",
    "end\n",
    "\n",
    "function Sz(b::FixedSzBasis)\n",
    "    Ndown = b.N - b.Nup\n",
    "    return (b.Nup-Ndown)/2\n",
    "end\n",
    "\n"
   ]
  },
  {
   "cell_type": "code",
   "execution_count": 10,
   "metadata": {
    "collapsed": false
   },
   "outputs": [
    {
     "data": {
      "text/plain": [
       "ConstructHeisenbergHamiltonian (generic function with 2 methods)"
      ]
     },
     "execution_count": 10,
     "metadata": {},
     "output_type": "execute_result"
    }
   ],
   "source": [
    "function ConstructHeisenbergHamiltonian(basis::FixedSzBasis)\n",
    "    \n",
    "    D = length(basis)\n",
    "    \n",
    "    H = spzeros(D,D)\n",
    "    \n",
    "    # Iterate over all the states in the basis |a> and calculate the nonzero matrix elements <b|H|a>\n",
    "    # Recall that H = \\sum_i H_{i,i+1}\n",
    "    for k in range(1, length = D)\n",
    "        \n",
    "        a = basis.states[k]\n",
    "\n",
    "        for i in range(1, length = basis.N)\n",
    "            j = mod(i,basis.N)+1 # periodic boundary conditions\n",
    "            si = ( a & 1<<(i-1) ) >> (i-1)\n",
    "            sj = ( a & 1<<(j-1) ) >> (j-1)\n",
    "\n",
    "            if si == sj\n",
    "                H[k,k] += 1/4\n",
    "            else\n",
    "                H[k,k] += - 1/4\n",
    "                b = FlipSpins(a,i,j)\n",
    "                l = searchsortedfirst(basis.states,b)\n",
    "                @assert (l<=D) && (basis.states[l] == b) \"Invalid basis state generated by FlipSpins\"\n",
    "                H[k,l] = 1/2\n",
    "            end\n",
    "        end\n",
    "    end\n",
    "    \n",
    "    return H\n",
    "end"
   ]
  },
  {
   "cell_type": "code",
   "execution_count": 11,
   "metadata": {
    "collapsed": false
   },
   "outputs": [
    {
     "name": "stdout",
     "output_type": "stream",
     "text": [
      "Dimension of subspace with S^z=0.0 is 3432\n",
      "  0.037694 seconds (35 allocations: 2.028 MiB)\n"
     ]
    }
   ],
   "source": [
    "N, Nup = 14,7\n",
    "basis = FixedSzBasis(N,Nup);\n",
    "@time H = ConstructHeisenbergHamiltonian(basis);"
   ]
  },
  {
   "cell_type": "code",
   "execution_count": 12,
   "metadata": {
    "collapsed": false
   },
   "outputs": [
    {
     "name": "stdout",
     "output_type": "stream",
     "text": [
      "  9.942422 seconds (16 allocations: 180.959 MiB, 1.69% gc time)\n",
      "Ground state energy is -6.263549533547012\n"
     ]
    }
   ],
   "source": [
    "@time En = eigvals(Matrix(H));\n",
    "println(\"Ground state energy is \", En[1])"
   ]
  },
  {
   "cell_type": "markdown",
   "metadata": {},
   "source": [
    "Full diagonalization scales as $t\\sim O({\\rm dim} H ^3$)"
   ]
  },
  {
   "cell_type": "code",
   "execution_count": 13,
   "metadata": {
    "collapsed": false
   },
   "outputs": [
    {
     "name": "stdout",
     "output_type": "stream",
     "text": [
      "Dimension of subspace with S^z=0.0 is 48620\n",
      " 18.691966 seconds (43 allocations: 18.373 MiB, 0.69% gc time)\n"
     ]
    }
   ],
   "source": [
    "N, Nup = 18,9\n",
    "basis = FixedSzBasis(N,Nup);\n",
    "@time H = ConstructHeisenbergHamiltonian(basis);"
   ]
  },
  {
   "cell_type": "code",
   "execution_count": 14,
   "metadata": {
    "collapsed": false
   },
   "outputs": [
    {
     "name": "stdout",
     "output_type": "stream",
     "text": [
      "  5.396868 seconds (7.67 M allocations: 399.769 MiB, 3.08% gc time)\n",
      "Ground state energy is -8.022749087033686\n"
     ]
    }
   ],
   "source": [
    "@time res = eigs(H; nev=10, which=:LM, ritzvec=false) # Using Lanczos to calculate lowest eigenvalues!\n",
    "En = res[1]\n",
    "println(\"Ground state energy is \", En[1])"
   ]
  },
  {
   "cell_type": "markdown",
   "metadata": {},
   "source": [
    "Diagonalization with Lanczos scales as $t\\sim O({\\rm dim} H)$"
   ]
  },
  {
   "cell_type": "markdown",
   "metadata": {},
   "source": [
    "# Lanczos"
   ]
  },
  {
   "cell_type": "markdown",
   "metadata": {},
   "source": [
    "## Before we move on to Lanczos let's look at the simple power iteration method"
   ]
  },
  {
   "cell_type": "code",
   "execution_count": 15,
   "metadata": {
    "collapsed": false
   },
   "outputs": [
    {
     "data": {
      "text/plain": [
       "ApplyHeisenbergHamiltonian (generic function with 1 method)"
      ]
     },
     "execution_count": 15,
     "metadata": {},
     "output_type": "execute_result"
    }
   ],
   "source": [
    "function ApplyHeisenbergHamiltonian(basis::FixedSzBasis, psi::Vector{Float64})\n",
    "    # psi contains the amplitude of each basis state\n",
    "    \n",
    "    D = length(basis)\n",
    "    @assert length(psi) == D \"Length of state vector is incompatible with basis size\"\n",
    "    \n",
    "    @assert abs(norm(psi) - 1.) < 1e-14 \"State vector is not normalized\"\n",
    "\n",
    "    phi = zeros(D) # phi = H psi\n",
    "    \n",
    "    for k in range(1, length = D) # loop over basis states\n",
    "\n",
    "        if abs(psi[k])<1e-14 # the amplitude of this basis state vanishes -> skip\n",
    "            continue\n",
    "        end\n",
    "        \n",
    "        a = basis.states[k]\n",
    "        \n",
    "        # act with each term in the Hamiltonian on this basis state \n",
    "        # and update the amplitude of the respective basis state in phi\n",
    "        for i in range(1, length = basis.N) \n",
    "            j = mod(i,basis.N)+1 # periodic boundary conditions\n",
    "            si = ( a & 1<<(i-1) ) >> (i-1)\n",
    "            sj = ( a & 1<<(j-1) ) >> (j-1)\n",
    "\n",
    "            if si == sj\n",
    "                phi[k] += 1/4*psi[k]\n",
    "            else\n",
    "                phi[k] += -1/4*psi[k]\n",
    "                b = FlipSpins(a,i,j)\n",
    "                l = searchsortedfirst(basis.states,b)\n",
    "                phi[l] +=  1/2*psi[k]\n",
    "            end\n",
    "        end\n",
    "    end\n",
    "    \n",
    "    return phi\n",
    "end"
   ]
  },
  {
   "cell_type": "code",
   "execution_count": 16,
   "metadata": {
    "collapsed": false
   },
   "outputs": [
    {
     "name": "stdout",
     "output_type": "stream",
     "text": [
      "Dimension of subspace with S^z=0.0 is 48620\n"
     ]
    }
   ],
   "source": [
    "N, Nup = 18, 9\n",
    "\n",
    "basis = FixedSzBasis(N,Nup);\n",
    "\n",
    "psi = rand(length(basis))\n",
    "psi /= norm(psi)\n",
    "\n",
    "nMax = 500\n",
    "Ek = zeros(nMax)\n",
    "for k in range(1,length=nMax)\n",
    "    Hpsi = ApplyHeisenbergHamiltonian(basis, psi)\n",
    "    Ek[k] = dot(psi, Hpsi)\n",
    "    psi = Hpsi / norm(Hpsi)\n",
    "end"
   ]
  },
  {
   "cell_type": "code",
   "execution_count": 17,
   "metadata": {
    "collapsed": false
   },
   "outputs": [
    {
     "ename": "LoadError",
     "evalue": "\u001b[91mUndefVarError: figure not defined\u001b[39m",
     "output_type": "error",
     "traceback": [
      "\u001b[91mUndefVarError: figure not defined\u001b[39m",
      "",
      "Stacktrace:",
      " [1] top-level scope at In[17]:1"
     ]
    }
   ],
   "source": [
    "figure(figsize=(4,3))\n",
    "axhline(En[1],color=\"red\",linestyle=\"dashed\")\n",
    "plot(Ek)\n",
    "ylim(En[1]-0.1,En[1]+0.9)\n",
    "xlim(0,nMax)\n",
    "xlabel(\"Iteration number\")\n",
    "ylabel(L\"$E_{GS}$\");"
   ]
  },
  {
   "cell_type": "code",
   "execution_count": 18,
   "metadata": {
    "collapsed": false
   },
   "outputs": [
    {
     "ename": "LoadError",
     "evalue": "\u001b[91mUndefVarError: figure not defined\u001b[39m",
     "output_type": "error",
     "traceback": [
      "\u001b[91mUndefVarError: figure not defined\u001b[39m",
      "",
      "Stacktrace:",
      " [1] top-level scope at In[18]:1"
     ]
    }
   ],
   "source": [
    "figure(figsize=(4,3))\n",
    "plot(Ek.-En[1])\n",
    "xlim(0,nMax)\n",
    "xlabel(\"Iteration number\")\n",
    "ylabel(L\"$\\Delta E_{GS}$\");\n",
    "yscale(\"log\")"
   ]
  },
  {
   "cell_type": "markdown",
   "metadata": {},
   "source": [
    "## Construct the reduced Hamiltonian in the Krylov subspace"
   ]
  },
  {
   "cell_type": "code",
   "execution_count": 19,
   "metadata": {
    "collapsed": false
   },
   "outputs": [
    {
     "data": {
      "text/plain": [
       "ConstructReducedHamiltonian (generic function with 2 methods)"
      ]
     },
     "execution_count": 19,
     "metadata": {},
     "output_type": "execute_result"
    }
   ],
   "source": [
    "function ConstructReducedHamiltonian(basis::FixedSzBasis, nMax::Int64, storeVecs = false)\n",
    "    # nMax+1 is the dimension of the Krylov subspace\n",
    "    # storeVecs indicates whether we'd like to store the vectors spanning the Krylov subspace in the original basis - \n",
    "    # this is important if we are interested in calculating expectation values!\n",
    "    \n",
    "    D = length(basis)\n",
    "    Heff = zeros(nMax+1, nMax+1)\n",
    "    \n",
    "    if storeVecs\n",
    "        vecs = zeros(nMax+1, D)\n",
    "    end\n",
    "    \n",
    "    psi0 = rand(D)\n",
    "    psi0 /= norm(psi0)\n",
    "\n",
    "    Hpsi0 = ApplyHeisenbergHamiltonian(basis, psi0)\n",
    "    a0 = dot(psi0,Hpsi0)\n",
    "\n",
    "    psi1 = Hpsi0 - a0*psi0\n",
    "    N1 = norm(psi1)\n",
    "    psi1 /= N1\n",
    "    \n",
    "    if storeVecs\n",
    "        vecs[1,:] = psi0\n",
    "        vecs[2,:] = psi1\n",
    "    end\n",
    "\n",
    "    psinm = psi0\n",
    "    psin = psi1\n",
    "    Nn = N1\n",
    "\n",
    "    Heff[1,1] = a0\n",
    "    Heff[1,2] = N1\n",
    "\n",
    "    for n in range(1, length=nMax-1)\n",
    "\n",
    "        Heff[n+1,n] = Nn\n",
    "        \n",
    "        Hpsin = ApplyHeisenbergHamiltonian(basis, psin)\n",
    "        an = dot(psin,Hpsin)\n",
    "        \n",
    "        Heff[n+1,n+1] = an\n",
    "        \n",
    "        psinp = Hpsin - an*psin - Nn*psinm\n",
    "        Nn = norm(psinp)\n",
    "\n",
    "        Heff[n+1, n+2] = Nn\n",
    "        \n",
    "        # prepare for next step\n",
    "        psinm = psin\n",
    "        psin = psinp / Nn\n",
    "        \n",
    "        if storeVecs\n",
    "            vecs[n+2,:] = psin\n",
    "        end\n",
    "    end \n",
    "\n",
    "    Heff[nMax+1,nMax] = Nn;\n",
    "    \n",
    "    return storeVecs ? (Heff, vecs) : Heff\n",
    "end\n"
   ]
  },
  {
   "cell_type": "code",
   "execution_count": 20,
   "metadata": {
    "collapsed": false
   },
   "outputs": [
    {
     "name": "stdout",
     "output_type": "stream",
     "text": [
      "Dimension of subspace with S^z=0.0 is 48620\n",
      "  1.940254 seconds (602 allocations: 111.334 MiB, 1.10% gc time)\n"
     ]
    }
   ],
   "source": [
    "N, Nup = 18, 9\n",
    "nMax = 50\n",
    "\n",
    "basis = FixedSzBasis(N,Nup);\n",
    "\n",
    "@time Heff = ConstructReducedHamiltonian(basis, nMax)\n",
    "\n",
    "nEigs = 5\n",
    "EkLanczos = Array{Float64}(undef, nMax+1, nEigs)  \n",
    "for k in range(1, stop=nMax+1)\n",
    "    Hk = Heff[1:k,1:k]\n",
    "    EkLanczos[k, 1:min(nEigs,k)] = eigvals(Hk)[1:min(nEigs,k)]\n",
    "end"
   ]
  },
  {
   "cell_type": "code",
   "execution_count": 25,
   "metadata": {
    "collapsed": false
   },
   "outputs": [
    {
     "name": "stdout",
     "output_type": "stream",
     "text": [
      "3.310930036172311\n",
      "-1.613945380607411\n",
      "-3.516979907481936\n"
     ]
    }
   ],
   "source": [
    "println(EkLanczos[1])\n",
    "println(EkLanczos[2])\n",
    "println(EkLanczos[3])"
   ]
  },
  {
   "cell_type": "code",
   "execution_count": 2,
   "metadata": {
    "collapsed": false
   },
   "outputs": [
    {
     "ename": "LoadError",
     "evalue": "\u001b[91mUndefVarError: figure not defined\u001b[39m",
     "output_type": "error",
     "traceback": [
      "\u001b[91mUndefVarError: figure not defined\u001b[39m",
      "",
      "Stacktrace:",
      " [1] top-level scope at In[2]:1"
     ]
    }
   ],
   "source": [
    "figure(figsize=(4,3))\n",
    "plot(EkLanczos, \"-b\")\n",
    "for k in range(1,stop = length(En))\n",
    "    axhline(En[k], linestyle=\"dashed\", color=\"red\")\n",
    "end\n",
    "ylim(En[1]-0.2,En[end]+0.2)\n",
    "xlabel(\"Dimension of Krylov subspace\")\n",
    "ylabel(L\"$E_n$\");"
   ]
  },
  {
   "cell_type": "code",
   "execution_count": 23,
   "metadata": {
    "collapsed": false
   },
   "outputs": [
    {
     "ename": "LoadError",
     "evalue": "\u001b[91mUndefVarError: figure not defined\u001b[39m",
     "output_type": "error",
     "traceback": [
      "\u001b[91mUndefVarError: figure not defined\u001b[39m",
      "",
      "Stacktrace:",
      " [1] top-level scope at In[23]:1"
     ]
    }
   ],
   "source": [
    "figure(figsize=(4,3))\n",
    "plot(EkLanczos[:,1].-En[1])\n",
    "xlabel(\"Dimension of Krylov subspace\")\n",
    "ylabel(L\"$\\Delta E_{GS}$\");\n",
    "yscale(\"log\")"
   ]
  },
  {
   "cell_type": "markdown",
   "metadata": {},
   "source": [
    "Checking convergence"
   ]
  },
  {
   "cell_type": "code",
   "execution_count": 24,
   "metadata": {
    "collapsed": false
   },
   "outputs": [
    {
     "ename": "LoadError",
     "evalue": "\u001b[91mUndefVarError: figure not defined\u001b[39m",
     "output_type": "error",
     "traceback": [
      "\u001b[91mUndefVarError: figure not defined\u001b[39m",
      "",
      "Stacktrace:",
      " [1] top-level scope at In[24]:1"
     ]
    }
   ],
   "source": [
    "figure(figsize=(4,3))\n",
    "plot(abs.(diff(EkLanczos[:,1])))\n",
    "xlabel(\"Dimension of Krylov subspace\")\n",
    "ylabel(L\"$|E_{GS,k}-E_{GS,k-1}|$\");\n",
    "yscale(\"log\")"
   ]
  },
  {
   "cell_type": "code",
   "execution_count": 27,
   "metadata": {
    "collapsed": false
   },
   "outputs": [
    {
     "name": "stdout",
     "output_type": "stream",
     "text": [
      "Dimension of subspace with S^z=0.0 is 705432\n",
      " 45.883310 seconds (962 allocations: 2.523 GiB, 0.70% gc time)\n"
     ]
    }
   ],
   "source": [
    "N = 22\n",
    "Nup = Int(N/2)\n",
    "nMax = 80\n",
    "\n",
    "basis = FixedSzBasis(N,Nup);\n",
    "@time Heff = ConstructReducedHamiltonian(basis, nMax)\n",
    "\n",
    "nEigs = 5\n",
    "EkLanczos = Array{Float64}(undef, nMax+1, nEigs)  \n",
    "for k in range(1, stop=nMax+1)\n",
    "    Hk = Heff[1:k,1:k]\n",
    "    EkLanczos[k, 1:min(nEigs,k)] = eigvals(Hk)[1:min(nEigs,k)]\n",
    "end"
   ]
  },
  {
   "cell_type": "code",
   "execution_count": 28,
   "metadata": {
    "collapsed": false
   },
   "outputs": [
    {
     "data": {
      "image/png": "[encoded data removed]",
      "text/plain": [
       "Figure(PyObject <Figure size 400x300 with 1 Axes>)"
      ]
     },
     "metadata": {},
     "output_type": "display_data"
    }
   ],
   "source": [
    "figure(figsize=(4,3))\n",
    "plot(abs.(diff(EkLanczos, dims=1)))\n",
    "xlabel(\"Dimension of Krylov subspace\")\n",
    "ylabel(L\"$|E_{n,k}-E_{n,k-1}|$\");\n",
    "yscale(\"log\")\n",
    "ylim(1e-14,1e1);"
   ]
  },
  {
   "cell_type": "markdown",
   "metadata": {},
   "source": [
    "# Finite-size scaling of the gap"
   ]
  },
  {
   "cell_type": "markdown",
   "metadata": {},
   "source": [
    "We now calculate the gap in the system. \n",
    "\n",
    "We'll consider the triplet gap, i.e. the energy of the lowest state in the $S^z=1$ sector compared to the ground state which is in the $S^z=0$ sector."
   ]
  },
  {
   "cell_type": "code",
   "execution_count": 29,
   "metadata": {
    "collapsed": false
   },
   "outputs": [
    {
     "name": "stdout",
     "output_type": "stream",
     "text": [
      "Dimension of subspace with S^z=0.0 is 20\n",
      "  0.000118 seconds (362 allocations: 113.578 KiB)\n",
      "Dimension of subspace with S^z=1.0 is 15\n",
      "  0.000098 seconds (362 allocations: 102.328 KiB)\n",
      "Dimension of subspace with S^z=0.0 is 70\n",
      "  0.001033 seconds (362 allocations: 265.453 KiB)\n",
      "Dimension of subspace with S^z=1.0 is 56\n",
      "  0.000539 seconds (362 allocations: 220.453 KiB)\n",
      "Dimension of subspace with S^z=0.0 is 252\n",
      "  0.005637 seconds (362 allocations: 794.203 KiB)\n",
      "Dimension of subspace with S^z=1.0 is 210\n",
      "  0.004325 seconds (362 allocations: 664.828 KiB)\n",
      "Dimension of subspace with S^z=0.0 is 924\n",
      "  0.024985 seconds (362 allocations: 2.621 MiB)\n",
      "Dimension of subspace with S^z=1.0 is 792\n",
      "  0.021530 seconds (362 allocations: 2.248 MiB)\n",
      "Dimension of subspace with S^z=0.0 is 3432\n",
      "  0.102452 seconds (722 allocations: 9.482 MiB)\n",
      "Dimension of subspace with S^z=1.0 is 3003\n",
      "  0.089128 seconds (722 allocations: 8.318 MiB)\n",
      "Dimension of subspace with S^z=0.0 is 12870\n",
      "  0.434782 seconds (723 allocations: 35.410 MiB, 1.60% gc time)\n",
      "Dimension of subspace with S^z=1.0 is 11440\n",
      "  0.414553 seconds (722 allocations: 31.477 MiB, 0.66% gc time)\n",
      "Dimension of subspace with S^z=0.0 is 48620\n",
      "  1.846342 seconds (722 allocations: 133.606 MiB, 0.19% gc time)\n",
      "Dimension of subspace with S^z=1.0 is 43758\n",
      "  1.777249 seconds (722 allocations: 120.246 MiB, 0.11% gc time)\n",
      "Dimension of subspace with S^z=0.0 is 184756\n",
      "  8.377447 seconds (722 allocations: 507.514 MiB, 0.19% gc time)\n",
      "Dimension of subspace with S^z=1.0 is 167960\n",
      "  7.427187 seconds (722 allocations: 461.372 MiB, 0.28% gc time)\n"
     ]
    }
   ],
   "source": [
    "Ns = 6:2:20\n",
    "nMax = 60\n",
    "\n",
    "Egs_sz0 = zeros(length(Ns))\n",
    "Egs_sz1 = zeros(length(Ns))\n",
    "\n",
    "for (i,N) in enumerate(Ns)\n",
    "    Nup = Int(N/2)\n",
    "    basis_sz0 = FixedSzBasis(N,Nup);\n",
    "    @time Heff = ConstructReducedHamiltonian(basis_sz0, nMax)\n",
    "    En = eigvals(Heff)\n",
    "    Egs_sz0[i] = En[1]\n",
    "    \n",
    "    basis_sz1 = FixedSzBasis(N,Nup+1);\n",
    "    @time Heff = ConstructReducedHamiltonian(basis_sz1, nMax)\n",
    "    En = eigvals(Heff)\n",
    "    Egs_sz1[i] = En[1]\n",
    "end\n"
   ]
  },
  {
   "cell_type": "code",
   "execution_count": 31,
   "metadata": {
    "collapsed": false
   },
   "outputs": [
    {
     "data": {
      "image/png": "[encoded data removed]",
      "text/plain": [
       "Figure(PyObject <Figure size 400x300 with 1 Axes>)"
      ]
     },
     "metadata": {},
     "output_type": "display_data"
    }
   ],
   "source": [
    "figure(figsize=(4,3))\n",
    "plot(1 ./ Ns, Egs_sz1-Egs_sz0, \"o--\")\n",
    "xlim(0, 0.2)\n",
    "ylim(0, 0.8)\n",
    "xlabel(\"1/N\")\n",
    "ylabel(L\"\\Delta\");"
   ]
  },
  {
   "cell_type": "markdown",
   "metadata": {},
   "source": [
    "We see that the gap scales as $1/N$ indicating the systems is gapless"
   ]
  }
 ],
 "metadata": {
  "anaconda-cloud": {},
  "celltoolbar": "Raw Cell Format",
  "kernelspec": {
   "display_name": "Julia 1.5.1",
   "language": "julia",
   "name": "julia-1.5"
  },
  "language_info": {
   "file_extension": ".jl",
   "mimetype": "application/julia",
   "name": "julia",
   "version": "1.5.1"
  }
 },
 "nbformat": 4,
 "nbformat_minor": 2
}
