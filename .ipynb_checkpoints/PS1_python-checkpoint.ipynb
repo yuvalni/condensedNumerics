{
 "cells": [
  {
   "cell_type": "code",
   "execution_count": 1,
   "metadata": {
    "collapsed": true
   },
   "outputs": [],
   "source": [
    "import numpy as np\n",
    "import matplotlib.pyplot as plt\n",
    "import numba"
   ]
  },
  {
   "cell_type": "markdown",
   "metadata": {},
   "source": [
    "Now we consider this hamiltonian $H = J_1 \\sum_{i=1}^{N-1} \\vec{S}_i \\cdot \\vec{S}_{i+1} + J_2 \\sum_{i=1}^{N-1} \\vec{S}_i \\cdot \\vec{S}_{i+2}$\n",
    "\n",
    "Simmilarly to class we get: $H_i = \\sum_i \\left[ J_1 \\frac{1}{2}\\left(\\sigma^+_i \\sigma^-_{i+1} +\\sigma^-_i \\sigma^+_{i+1}\\right) + \\frac{J_1}{4} \\sigma^z_i \\sigma^z_{i+1}+ J_2 \\frac{1}{2} \\left(\\sigma^+_i \\sigma^-_{i+2} + \\sigma^-_i \\sigma^+_{i+2} \\right) + \\frac{J_2}{4} \\sigma^z_i \\sigma^z_{i+2} \\right]$\n",
    "\n",
    "The construction of the reduced Hamiltonain in the Krylov state is just the same- Only the \"ApplyHeisenbergHamiltonian\" function needs to be modified.\n",
    "\n"
   ]
  },
  {
   "cell_type": "code",
   "execution_count": null,
   "metadata": {
    "collapsed": true
   },
   "outputs": [],
   "source": [
    "def FlipSpins(x,i,j):\n",
    "    f = typeof(x)(1)<<(i-1) | typeof(x)(1)<<(j-1) \n",
    "    return x ⊻ f"
   ]
  }
 ],
 "metadata": {
  "anaconda-cloud": {},
  "kernelspec": {
   "display_name": "Python [conda root]",
   "language": "python",
   "name": "conda-root-py"
  },
  "language_info": {
   "codemirror_mode": {
    "name": "ipython",
    "version": 3
   },
   "file_extension": ".py",
   "mimetype": "text/x-python",
   "name": "python",
   "nbconvert_exporter": "python",
   "pygments_lexer": "ipython3",
   "version": "3.5.2"
  }
 },
 "nbformat": 4,
 "nbformat_minor": 2
}
