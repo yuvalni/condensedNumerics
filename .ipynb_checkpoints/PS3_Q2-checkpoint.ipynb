{
 "cells": [
  {
   "cell_type": "code",
   "execution_count": 1,
   "metadata": {
    "collapsed": true
   },
   "outputs": [],
   "source": [
    "using Random, Statistics, PyPlot"
   ]
  },
  {
   "cell_type": "code",
   "execution_count": 3,
   "metadata": {
    "collapsed": false
   },
   "outputs": [
    {
     "data": {
      "text/plain": [
       "DiagUpdate! (generic function with 1 method)"
      ]
     },
     "execution_count": 3,
     "metadata": {},
     "output_type": "execute_result"
    }
   ],
   "source": [
    "function DiagUpdate!(s::Vector{Int64}, c::Vector{Int64}, T::Float64)\n",
    "    # s is the operator string, c is the spin configuration at p=0\n",
    "\n",
    "    Nmax = length(s) # total length of operator string\n",
    "    n = sum(s .> 0) # number of non-identity operators in the string\n",
    "    \n",
    "    Nb = length(c) # this is the number of bonds assuming periodic boundary conditions\n",
    "    \n",
    "    for p in range(1, stop = Nmax)\n",
    "        if s[p] == 0 # identity operator present at this p, attempt adding diagonal H term\n",
    "            \n",
    "            # pick a random bond and attempt inserting diag H if the spins are anti-parallel\n",
    "            b = rand(1:Nb)\n",
    "            \n",
    "            i, j = b, mod(b, length(c))+1 \n",
    "            if c[i] == c[j]\n",
    "                continue\n",
    "            end\n",
    "            \n",
    "            p_insert = Nb/(2*T*(Nmax-n)) \n",
    "            \n",
    "            \n",
    "            if rand() < p_insert\n",
    "                n += 1\n",
    "                s[p] = 2*b\n",
    "            end\n",
    "            throw(\"why here mod ==1 and not 1??\")\n",
    "        elseif mod(s[p],2) == 1 # diagonal operator present at this p, attempt removal\n",
    "            p_remove = 2*T*( Nmax - (n-1) )/Nb\n",
    "            if rand() < p_remove\n",
    "                n -= 1\n",
    "                s[p] = 0\n",
    "            end\n",
    "        else # off-diagonal operator present at this p\n",
    "            # keep track of the spin configuration after each p\n",
    "            b = div(s[p],2)\n",
    "            i, j = b, mod(b, length(c))+1 \n",
    "            c[i], c[j] = 1-c[i], 1-c[j]\n",
    "        end\n",
    "    end\n",
    "end"
   ]
  },
  {
   "cell_type": "code",
   "execution_count": 4,
   "metadata": {
    "collapsed": false
   },
   "outputs": [
    {
     "data": {
      "text/plain": [
       "LinkedVertexList (generic function with 1 method)"
      ]
     },
     "execution_count": 4,
     "metadata": {},
     "output_type": "execute_result"
    }
   ],
   "source": [
    "function LinkedVertexList(s::Vector{Int64}, Nx::Int64)\n",
    "    \n",
    "    Nmax = length(s)\n",
    "    \n",
    "    list = zeros(Int64, 4*Nmax)\n",
    "    \n",
    "    lastVertex = zeros(Int64, Nx) # store the last vertex for each site\n",
    "    firstVertex = zeros(Int64, Nx) # store the first vertex for each site\n",
    "    \n",
    "    for p in range(1, length = Nmax)\n",
    "\n",
    "        if s[p] == 0 # no vertices here\n",
    "            continue\n",
    "        end\n",
    "\n",
    "        b = div(s[p]+1,2) # bond index\n",
    "        i, j = b, mod(b, Nx)+1 # site indices\n",
    "        \n",
    "        vi, vj = lastVertex[i], lastVertex[j]\n",
    "        if vi != 0\n",
    "            list[vi] = 4*(p-1)+1\n",
    "            list[4*(p-1)+1] = vi\n",
    "        else\n",
    "            firstVertex[i] = 4*(p-1)+1\n",
    "        end\n",
    "                    \n",
    "        if vj != 0\n",
    "            list[vj] = 4*(p-1)+2\n",
    "            list[4*(p-1)+2] = vj\n",
    "        else\n",
    "            firstVertex[j] = 4*(p-1)+2\n",
    "        end\n",
    "            \n",
    "        # update last vertex for each site\n",
    "        lastVertex[i], lastVertex[j] = 4*(p-1)+3, 4*(p-1)+4\n",
    "                \n",
    "    end\n",
    "\n",
    "    # link back last to first (due to periodic boundary conditions in p)\n",
    "    for i in range(1, length=Nx)\n",
    "        if firstVertex[i] != 0\n",
    "            list[lastVertex[i]] = firstVertex[i]\n",
    "            list[firstVertex[i]] = lastVertex[i]\n",
    "        end\n",
    "    end\n",
    "    \n",
    "    # return the linked vertices list, and also all the sites that didn't appear in any vertex\n",
    "    return list, firstVertex\n",
    "    \n",
    "end"
   ]
  },
  {
   "cell_type": "code",
   "execution_count": null,
   "metadata": {
    "collapsed": true
   },
   "outputs": [],
   "source": []
  }
 ],
 "metadata": {
  "anaconda-cloud": {},
  "kernelspec": {
   "display_name": "Julia 1.5.1",
   "language": "julia",
   "name": "julia-1.5"
  },
  "language_info": {
   "file_extension": ".jl",
   "mimetype": "application/julia",
   "name": "julia",
   "version": "1.5.1"
  }
 },
 "nbformat": 4,
 "nbformat_minor": 4
}
