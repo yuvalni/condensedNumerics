{
 "cells": [
  {
   "cell_type": "code",
   "execution_count": 1,
   "metadata": {
    "collapsed": true
   },
   "outputs": [],
   "source": [
    "using SparseArrays, LinearAlgebra, Arpack"
   ]
  },
  {
   "cell_type": "code",
   "execution_count": 2,
   "metadata": {
    "collapsed": true
   },
   "outputs": [],
   "source": [
    "using SparseArrays, LinearAlgebra, Arpack, Plots"
   ]
  },
  {
   "cell_type": "markdown",
   "metadata": {},
   "source": [
    "Now we consider this hamiltonian $H = J_1 \\sum_{i=1}^{N-1} \\vec{S}_i \\cdot \\vec{S}_{i+1} + J_2 \\sum_{i=1}^{N-1} \\vec{S}_i \\cdot \\vec{S}_{i+2}$\n",
    "\n",
    "Simmilarly to class we get: $H_i = \\sum_i \\left[ J_1 \\frac{1}{2}\\left(\\sigma^+_i \\sigma^-_{i+1} +\\sigma^-_i \\sigma^+_{i+1}\\right) + \\frac{J_1}{4} \\sigma^z_i \\sigma^z_{i+1}+ J_2 \\frac{1}{2} \\left(\\sigma^+_i \\sigma^-_{i+2} + \\sigma^-_i \\sigma^+_{i+2} \\right) + \\frac{J_2}{4} \\sigma^z_i \\sigma^z_{i+2} \\right]$\n",
    "\n",
    "The construction of the reduced Hamiltonain in the Krylov state is just the same- Only the \"ConstructReducedHamiltonian\" function needs to be modified.\n",
    "\n"
   ]
  },
  {
   "cell_type": "code",
   "execution_count": null,
   "metadata": {
    "collapsed": true
   },
   "outputs": [],
   "source": [
    "function ConstructModifiedReducedHamiltonian(basis::FixedSzBasis, J1::Float64, g::Float64, nMax::Int64, storeVecs = false)\n",
    "    # nMax+1 is the dimension of the Krylov subspace\n",
    "    # storeVecs indicates whether we'd like to store the vectors spanning the Krylov subspace in the original basis - \n",
    "    # this is important if we are interested in calculating expectation values!\n",
    "    \n",
    "    J2 = J1 * g\n",
    "    D = length(basis)\n",
    "    Heff = zeros(nMax+1, nMax+1)\n",
    "    \n",
    "    if storeVecs\n",
    "        vecs = zeros(nMax+1, D)\n",
    "    end\n",
    "    \n",
    "    psi0 = rand(D)\n",
    "    psi0 /= norm(psi0)\n",
    "\n",
    "    Hpsi0 = ApplyHeisenbergHamiltonian(basis, psi0)\n",
    "    a0 = dot(psi0,Hpsi0)\n",
    "\n",
    "    psi1 = Hpsi0 - a0*psi0\n",
    "    N1 = norm(psi1)\n",
    "    psi1 /= N1\n",
    "    \n",
    "    if storeVecs\n",
    "        vecs[1,:] = psi0\n",
    "        vecs[2,:] = psi1\n",
    "    end\n",
    "\n",
    "    psinm = psi0\n",
    "    psin = psi1\n",
    "    Nn = N1\n",
    "\n",
    "    Heff[1,1] = a0\n",
    "    Heff[1,2] = N1\n",
    "\n",
    "    for n in range(1, length=nMax-1)\n",
    "\n",
    "        Heff[n+1,n] = Nn\n",
    "        \n",
    "        Hpsin = ApplyHeisenbergHamiltonian(basis, psin)\n",
    "        an = dot(psin,Hpsin)\n",
    "        \n",
    "        Heff[n+1,n+1] = an\n",
    "        \n",
    "        psinp = Hpsin - an*psin - Nn*psinm\n",
    "        Nn = norm(psinp)\n",
    "\n",
    "        Heff[n+1, n+2] = Nn\n",
    "        \n",
    "        # prepare for next step\n",
    "        psinm = psin\n",
    "        psin = psinp / Nn\n",
    "        \n",
    "        if storeVecs\n",
    "            vecs[n+2,:] = psin\n",
    "        end\n",
    "    end \n",
    "\n",
    "    Heff[nMax+1,nMax] = Nn;\n",
    "    \n",
    "    return storeVecs ? (Heff, vecs) : Heff\n",
    "end\n"
   ]
  }
 ],
 "metadata": {
  "anaconda-cloud": {},
  "kernelspec": {
   "display_name": "Julia 1.5.1",
   "language": "julia",
   "name": "julia-1.5"
  },
  "language_info": {
   "file_extension": ".jl",
   "mimetype": "application/julia",
   "name": "julia",
   "version": "1.5.1"
  }
 },
 "nbformat": 4,
 "nbformat_minor": 2
}
