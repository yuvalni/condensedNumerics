{
 "cells": [
  {
   "cell_type": "code",
   "execution_count": 1,
   "metadata": {},
   "outputs": [],
   "source": [
    "using Random, Statistics, PyPlot, Polynomials"
   ]
  },
  {
   "cell_type": "markdown",
   "metadata": {},
   "source": [
    "copying from PS2"
   ]
  },
  {
   "cell_type": "code",
   "execution_count": 2,
   "metadata": {},
   "outputs": [
    {
     "data": {
      "text/plain": [
       "NearestNeighbors (generic function with 2 methods)"
      ]
     },
     "execution_count": 2,
     "metadata": {},
     "output_type": "execute_result"
    }
   ],
   "source": [
    "struct Point2D\n",
    "    x::Int64\n",
    "    y::Int64\n",
    "end\n",
    "\n",
    "struct SquareLattice\n",
    "    Nx::Int64\n",
    "    Ny::Int64    \n",
    "end\n",
    "\n",
    "import Base.length\n",
    "function length(lat::SquareLattice)\n",
    "    return lat.Nx*lat.Ny\n",
    "end\n",
    "\n",
    "function PointToIndex(lat::SquareLattice, r::Point2D)\n",
    "    @assert r.x <= lat.Nx \"Site x coordinate exceeding lattice length\"\n",
    "    @assert r.y <= lat.Ny \"Site y coordinate exceeding lattice width\"\n",
    "    \n",
    "    return (r.y-1)*lat.Nx + r.x\n",
    "end\n",
    "\n",
    "function IndexToPoint(lat::SquareLattice, ind::Int64)\n",
    "    \n",
    "    @assert ind <= length(lat) \"Site index exceeding lattice size\"\n",
    "    \n",
    "    y = div(ind-1, lat.Nx)+1\n",
    "    x = mod(ind-1, lat.Nx)+1\n",
    "\n",
    "    return Point2D(x,y)\n",
    "end\n",
    "    \n",
    "function NearestNeighbors(lat::SquareLattice, ind::Int64)\n",
    "\n",
    "    r = IndexToPoint(lat, ind)\n",
    "    \n",
    "    nn = zeros(Int64,4)\n",
    "    \n",
    "    xp = mod(r.x, lat.Nx)+1\n",
    "    yp = mod(r.y, lat.Ny)+1\n",
    "    xm = mod(r.x-2, lat.Nx)+1\n",
    "    ym = mod(r.y-2, lat.Ny)+1\n",
    "    \n",
    "    nn[1] = PointToIndex(lat, Point2D(xm, r.y) )\n",
    "    nn[2] = PointToIndex(lat, Point2D(xp, r.y) )\n",
    "    nn[3] = PointToIndex(lat, Point2D(r.x, ym) )\n",
    "    nn[4] = PointToIndex(lat, Point2D(r.x, yp) )\n",
    "    \n",
    "    return nn\n",
    "end\n",
    "\n",
    "function NearestNeighbors(lat::SquareLattice, ind::Int64,direction::Int64)\n",
    "\n",
    "    r = IndexToPoint(lat, ind)\n",
    "    \n",
    "    nn = zeros(Int64,2)\n",
    "    \n",
    "    if direction == 0    \n",
    "        xp = mod(r.x, lat.Nx)+1\n",
    "        xm = mod(r.x-2, lat.Nx)+1\n",
    "        nn[1] = PointToIndex(lat, Point2D(xm, r.y) )\n",
    "        nn[2] = PointToIndex(lat, Point2D(xp, r.y) )\n",
    "    end\n",
    "    \n",
    "    if direction == 1 \n",
    "        yp = mod(r.y, lat.Ny)+1\n",
    "        ym = mod(r.y-2, lat.Ny)+1\n",
    "        nn[1] =  PointToIndex(lat, Point2D(r.x, ym) )\n",
    "        nn[2] = PointToIndex(lat, Point2D(r.x, yp) )\n",
    "    end\n",
    "    \n",
    "    return nn\n",
    "end\n",
    "\n"
   ]
  },
  {
   "cell_type": "code",
   "execution_count": 8,
   "metadata": {},
   "outputs": [
    {
     "data": {
      "text/plain": [
       "ConfigurationEnergy (generic function with 1 method)"
      ]
     },
     "execution_count": 8,
     "metadata": {},
     "output_type": "execute_result"
    }
   ],
   "source": [
    "function ConfigurationEnergy(lat::SquareLattice, c::Vector{Float64},Jx::Float64,Jtau::Float64)\n",
    "    \n",
    "    N = length(lat)\n",
    "    @assert N == length(c) \"Configuration incompatible with lattice size\"\n",
    "    \n",
    "    Ec = 0.\n",
    "    throw(\"Not Implemented\")\n",
    "    \n",
    "    \n",
    "    for j in range(1, length = N)\n",
    "        Xnn = NearestNeighbors(lat, j, 0)\n",
    "        taunn = NearestNeighbors(lat, j, 1)\n",
    "        #Ec += -sum(map(x->cos(c[j]-c[x]),nn))\n",
    "        Ec += Jx * sum(c[j] .*c[Xnn])\n",
    "        Ec += Jtau * sum(c[j] .*c[taunn])\n",
    "        \n",
    "    end\n",
    "    return Ec/2 # in the summation above every bond is included 2 times\n",
    "    \n",
    "end"
   ]
  },
  {
   "cell_type": "code",
   "execution_count": 8,
   "metadata": {},
   "outputs": [
    {
     "data": {
      "text/plain": [
       "WolffUpdate! (generic function with 1 method)"
      ]
     },
     "execution_count": 8,
     "metadata": {},
     "output_type": "execute_result"
    }
   ],
   "source": [
    "function WolffUpdate!(lat::SquareLattice, c::Vector{Float64}, T::Float64)\n",
    "\n",
    "    N = length(lat)\n",
    "    \n",
    "    @assert N == length(c) \"Configuration incompatible with lattice size\"\n",
    "    \n",
    "    \n",
    "    \n",
    "    #define a random direction: ̂e\n",
    "    direction = rand(Float64)*2π\n",
    "    \n",
    "    \n",
    "    \n",
    "\n",
    "    cluster = Int64[] # indices of spins in the cluster\n",
    "    newlyAdded = Int64[] # indices of newly added neighbors\n",
    "\n",
    "    push!(cluster, ind)\n",
    "    append!(newlyAdded, NearestNeighbors(lat, ind))\n",
    "    \n",
    "    \n",
    "    # differently for different directions?\n",
    "    throw(\"Not Implemented\")\n",
    "    while !isempty(newlyAdded)\n",
    "        j = pop!(newlyAdded)\n",
    "        if j in cluster\n",
    "            continue\n",
    "        end\n",
    "        \n",
    "        p = 1. - exp(-2/T * c[ind]*c[j])\n",
    "        if rand() < p # if si_e and sj_e are unti-aligned  p will be negative (i might want to check this!🎈)    \n",
    "            push!(cluster, j)\n",
    "            nn = NearestNeighbors(lat, j)\n",
    "            append!(newlyAdded, nn)\n",
    "        end\n",
    "    end\n",
    "\n",
    "    #flip the cluster!\n",
    "    ## theta'  = -theta -2alpha + pi\n",
    "    c[cluster] = map(x->mod(x,2pi),-c[cluster] .- 2 * direction .+ pi)\n",
    "    #c[cluster] = -c[cluster] .- 2 * direction .+ pi\n",
    "end"
   ]
  },
  {
   "cell_type": "code",
   "execution_count": 7,
   "metadata": {},
   "outputs": [
    {
     "data": {
      "text/plain": [
       "QMC (generic function with 2 methods)"
      ]
     },
     "execution_count": 7,
     "metadata": {},
     "output_type": "execute_result"
    }
   ],
   "source": [
    "function QMC(lat::SquareLattice, T::Float64, Nsw::Int64, saveConfigs = false)\n",
    "    # Nsw is the number of sweeps to perform\n",
    "    \n",
    "    c = rand(0:1, length(lat))\n",
    "\n",
    "    if saveConfigs\n",
    "        configs = zeros(Float64, Nsw, length(lat))\n",
    "        configs[1, :] = c\n",
    "    end\n",
    "        \n",
    "    \n",
    "    m[1] = abs( mean(2*c .- 1) )\n",
    "    throw(\"here we need to avg on the absolut magnetization of each row!!\")\n",
    "    \n",
    "    throw(\"Not implemented\")\n",
    "    \n",
    "    En = zeros(Float64, Nsw)\n",
    "    En[1] = ConfigurationEnergy(lat, c)\n",
    "    \n",
    "    for i in range(2, stop=Nsw)\n",
    "        WolffUpdate!(lat, c, T)\n",
    "        \n",
    "        En[i] = ConfigurationEnergy(lat, c)\n",
    "        \n",
    "        if saveConfigs\n",
    "            configs[i, :] = c\n",
    "        end\n",
    "        \n",
    "        \n",
    "        throw(\"here we need to avg on the absolut magnetization of each row!!\")\n",
    "        m[i] = abs( mean(2*c .- 1) )\n",
    "        \n",
    "        \n",
    "\n",
    "    end\n",
    "    \n",
    "    if saveConfigs\n",
    "        return mx, my, En, configs\n",
    "    else\n",
    "        return mx, my, En\n",
    "    end\n",
    "    \n",
    "end"
   ]
  },
  {
   "cell_type": "code",
   "execution_count": null,
   "metadata": {},
   "outputs": [],
   "source": []
  }
 ],
 "metadata": {
  "kernelspec": {
   "display_name": "Julia (6 threads) 1.6.3",
   "language": "julia",
   "name": "julia-(6-threads)-1.6"
  },
  "language_info": {
   "file_extension": ".jl",
   "mimetype": "application/julia",
   "name": "julia",
   "version": "1.6.3"
  }
 },
 "nbformat": 4,
 "nbformat_minor": 4
}
