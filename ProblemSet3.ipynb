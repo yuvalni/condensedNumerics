{
 "cells": [
  {
   "cell_type": "code",
   "execution_count": 319,
   "metadata": {},
   "outputs": [],
   "source": [
    "using Random, PyPlot, Statistics"
   ]
  },
  {
   "cell_type": "markdown",
   "metadata": {},
   "source": [
    "copying from PS2"
   ]
  },
  {
   "cell_type": "code",
   "execution_count": 320,
   "metadata": {},
   "outputs": [
    {
     "data": {
      "text/plain": [
       "NearestNeighbors (generic function with 2 methods)"
      ]
     },
     "execution_count": 320,
     "metadata": {},
     "output_type": "execute_result"
    }
   ],
   "source": [
    "struct Point2D\n",
    "    x::Int64\n",
    "    y::Int64\n",
    "end\n",
    "\n",
    "struct SquareLattice\n",
    "    Nx::Int64\n",
    "    Ny::Int64    \n",
    "end\n",
    "\n",
    "import Base.length\n",
    "function length(lat::SquareLattice)\n",
    "    return lat.Nx*lat.Ny\n",
    "end\n",
    "\n",
    "function PointToIndex(lat::SquareLattice, r::Point2D)\n",
    "    @assert r.x <= lat.Nx \"Site x coordinate exceeding lattice length\"\n",
    "    @assert r.y <= lat.Ny \"Site y coordinate exceeding lattice width\"\n",
    "    \n",
    "    return (r.y-1)*lat.Nx + r.x\n",
    "end\n",
    "\n",
    "function IndexToPoint(lat::SquareLattice, ind::Int64)\n",
    "    \n",
    "    @assert ind <= length(lat) \"Site index exceeding lattice size\"\n",
    "    \n",
    "    y = div(ind-1, lat.Nx)+1\n",
    "    x = mod(ind-1, lat.Nx)+1\n",
    "\n",
    "    return Point2D(x,y)\n",
    "end\n",
    "    \n",
    "function NearestNeighbors(lat::SquareLattice, ind::Int64)\n",
    "\n",
    "    r = IndexToPoint(lat, ind)\n",
    "    \n",
    "    nn = zeros(Int64,4)\n",
    "    \n",
    "    xp = mod(r.x, lat.Nx)+1\n",
    "    yp = mod(r.y, lat.Ny)+1\n",
    "    xm = mod(r.x-2, lat.Nx)+1\n",
    "    ym = mod(r.y-2, lat.Ny)+1\n",
    "    \n",
    "    nn[1] = PointToIndex(lat, Point2D(xm, r.y) )\n",
    "    nn[2] = PointToIndex(lat, Point2D(xp, r.y) )\n",
    "    nn[3] = PointToIndex(lat, Point2D(r.x, ym) )\n",
    "    nn[4] = PointToIndex(lat, Point2D(r.x, yp) )\n",
    "    \n",
    "    return nn\n",
    "end\n",
    "\n",
    "function NearestNeighbors(lat::SquareLattice, ind::Int64,direction::Int64)\n",
    "    @assert direction == 0 || direction == 1\n",
    "    \n",
    "    r = IndexToPoint(lat, ind)\n",
    "    \n",
    "    nn = zeros(Int64,2)\n",
    "    \n",
    "    if direction == 0    \n",
    "        xp = mod(r.x, lat.Nx)+1\n",
    "        xm = mod(r.x-2, lat.Nx)+1\n",
    "        nn[1] = PointToIndex(lat, Point2D(xm, r.y) )\n",
    "        nn[2] = PointToIndex(lat, Point2D(xp, r.y) )\n",
    "    end\n",
    "    \n",
    "    if direction == 1 \n",
    "        yp = mod(r.y, lat.Ny)+1\n",
    "        ym = mod(r.y-2, lat.Ny)+1\n",
    "        nn[1] =  PointToIndex(lat, Point2D(r.x, ym) )\n",
    "        nn[2] = PointToIndex(lat, Point2D(r.x, yp) )\n",
    "    end\n",
    "    \n",
    "    return nn\n",
    "end\n",
    "\n"
   ]
  },
  {
   "cell_type": "code",
   "execution_count": 321,
   "metadata": {},
   "outputs": [
    {
     "data": {
      "text/plain": [
       "ConfigurationEnergy (generic function with 2 methods)"
      ]
     },
     "execution_count": 321,
     "metadata": {},
     "output_type": "execute_result"
    }
   ],
   "source": [
    "function ConfigurationEnergy(lat::SquareLattice, c::Vector{Int64},Jx::Float64,Jtau::Float64)\n",
    "    \n",
    "    N = length(lat)\n",
    "    @assert N == length(c) \"Configuration incompatible with lattice size\"\n",
    "    \n",
    "    Ec = 0.\n",
    "    \n",
    "    \n",
    "    for j in range(1, length = N)\n",
    "        Xnn = NearestNeighbors(lat, j, 0)\n",
    "        taunn = NearestNeighbors(lat, j, 1)\n",
    "        Ec += Jx*(c[j]-1/2)*sum(c[Xnn].-1/2)\n",
    "        Ec += Jtau*(c[j]-1/2)*sum(c[taunn].-1/2)\n",
    "        \n",
    "        \n",
    "    end\n",
    "    return Ec/2 # in the summation above every bond is included 2 times\n",
    "    \n",
    "end"
   ]
  },
  {
   "cell_type": "code",
   "execution_count": 322,
   "metadata": {},
   "outputs": [
    {
     "data": {
      "text/plain": [
       "WolffUpdate! (generic function with 1 method)"
      ]
     },
     "execution_count": 322,
     "metadata": {},
     "output_type": "execute_result"
    }
   ],
   "source": [
    "function WolffUpdate!(lat::SquareLattice, c::Vector{Int64}, T::Float64,Jx::Float64,Jtau::Float64)\n",
    "\n",
    "    N = length(lat)\n",
    "    \n",
    "    @assert N == length(c) \"Configuration incompatible with lattice size\"\n",
    "    \n",
    "    ind = rand(1:N) # pick a random site\n",
    "    \n",
    "   \n",
    "\n",
    "    cluster = Int64[] # indices of spins in the cluster\n",
    "    newlyAdded = Int64[] # indices of newly added neighbors\n",
    "    \n",
    "\n",
    "    push!(cluster, ind)\n",
    "    append!(newlyAdded, NearestNeighbors(lat, ind))\n",
    "    \n",
    "    \n",
    "    \n",
    "    # differently for different directions?\n",
    "    \n",
    "    #we want to check if the spin is aligned with the cluste. the probability is measured with respect to J,\n",
    "    #so we must know if the new spin is connected to its neighbor (and to  the cluster) with Jt or Jx\n",
    "    newlyAddedDirection = Int64[] # 0 is X 1 is tau\n",
    "    append!(newlyAddedDirection,[0,0,1,1]) #we now that the first two are x direction\n",
    "    \n",
    "    \n",
    "    while !isempty(newlyAdded)\n",
    "        j = pop!(newlyAdded)\n",
    "        direction  = pop!(newlyAddedDirection)\n",
    "        if j in cluster\n",
    "            continue\n",
    "        end\n",
    "        @assert direction == 0 || direction == 1\n",
    "        J = direction == 0 ? Jx : Jtau #if direction is 0- Jx else Jtau\n",
    "        #spin_ind = 2c[ind] - 1\n",
    "        #spin_j = 2c[j] - 1\n",
    "        p = 1. - exp(-2*J/T)\n",
    "        if c[j]!=c[ind] && rand() < p # if si_e and sj_e are unti-aligned  p will be negative\n",
    "            push!(cluster, j)\n",
    "            nn = NearestNeighbors(lat, j)\n",
    "            append!(newlyAdded, nn)\n",
    "            append!(newlyAddedDirection,[0,0,1,1])\n",
    "        end\n",
    "    end\n",
    "\n",
    "    #flip the cluster!\n",
    "    c[cluster] = 1 .- c[cluster] # flip the cluster\n",
    "    \n",
    "end"
   ]
  },
  {
   "cell_type": "code",
   "execution_count": 323,
   "metadata": {},
   "outputs": [
    {
     "data": {
      "text/plain": [
       "QMC (generic function with 4 methods)"
      ]
     },
     "execution_count": 323,
     "metadata": {},
     "output_type": "execute_result"
    }
   ],
   "source": [
    "function QMC(lat::SquareLattice, T::Float64, Nsw::Int64,Jx::Float64,Jτ::Float64, saveConfigs = false)\n",
    "    # Nsw is the number of sweeps to perform\n",
    "    \n",
    "    c = rand(0:1, length(lat))\n",
    "    \n",
    "    if saveConfigs\n",
    "        configs = zeros(Float64, Nsw, length(lat))\n",
    "        configs[1, :] = c\n",
    "    end\n",
    "    \n",
    "    m = zeros(Float64, Nsw) # value of the X magnetization  per site\n",
    "    m[1] = 0\n",
    "    for k in range(1,length = lat.Ny)\n",
    "        m[1] += abs( mean(2*reshape(c,(lat.Nx,lat.Ny))[:,k] .- 1))/lat.Ny \n",
    "    end\n",
    "    #m[1] = abs(mean(2*c[1:lat.Nx] .- 1))\n",
    "\n",
    "    En = zeros(Float64, Nsw)\n",
    "    En[1] = ConfigurationEnergy(lat, c, Jx, Jτ)\n",
    "    \n",
    "    for i in range(2, stop=Nsw)\n",
    "        WolffUpdate!(lat, c, T,Jx,Jτ)\n",
    "        \n",
    "        En[i] = ConfigurationEnergy(lat, c, Jx, Jτ)\n",
    "        \n",
    "        if saveConfigs\n",
    "            configs[i, :] = c\n",
    "        end\n",
    "        \n",
    "        #m[i] = abs(mean(2*c[1:lat.Nx] .- 1))\n",
    "        m[i]=0\n",
    "        for k in range(1,length = lat.Ny)\n",
    "            m[i] += abs( mean(2*reshape(c,(lat.Nx,lat.Ny))[:,k] .- 1))/lat.Ny \n",
    "        end\n",
    "        \n",
    "\n",
    "    end\n",
    "    \n",
    "    if saveConfigs\n",
    "        return m, En, configs\n",
    "    else\n",
    "        return m, En\n",
    "    end\n",
    "    \n",
    "end"
   ]
  },
  {
   "cell_type": "markdown",
   "metadata": {},
   "source": [
    "# Let's see if it works!"
   ]
  },
  {
   "cell_type": "code",
   "execution_count": 324,
   "metadata": {},
   "outputs": [
    {
     "data": {
      "text/plain": [
       "100"
      ]
     },
     "execution_count": 324,
     "metadata": {},
     "output_type": "execute_result"
    }
   ],
   "source": [
    "h = [0.1,0.3,0.5,0.8,0.9,1.0,1.1,1.3]\n",
    "h=00\n",
    "J = 1.0\n",
    "T = 0.1J\n",
    "Δτ = 0.1 / J \n",
    "Jτ = log(coth(Δτ * h))\n",
    "Nτ = Int(ceil(1/(T*Δτ)))"
   ]
  },
  {
   "cell_type": "code",
   "execution_count": 325,
   "metadata": {},
   "outputs": [],
   "source": [
    "lat = SquareLattice(10,Nτ)\n",
    "Nsw = 10000\n",
    "m, En = QMC(lat,T, Nsw,Jx,Jτ);"
   ]
  },
  {
   "cell_type": "code",
   "execution_count": 326,
   "metadata": {},
   "outputs": [
    {
     "data": {
      "image/png": "[encoded data removed]",
      "text/plain": [
       "Figure(PyObject <Figure size 640x480 with 1 Axes>)"
      ]
     },
     "metadata": {},
     "output_type": "display_data"
    }
   ],
   "source": [
    "plot(m)\n",
    "show()"
   ]
  },
  {
   "cell_type": "code",
   "execution_count": 327,
   "metadata": {},
   "outputs": [
    {
     "data": {
      "image/png": "[encoded data removed]",
      "text/plain": [
       "Figure(PyObject <Figure size 640x480 with 1 Axes>)"
      ]
     },
     "metadata": {},
     "output_type": "display_data"
    }
   ],
   "source": [
    "plot(En)\n",
    "show()"
   ]
  },
  {
   "cell_type": "code",
   "execution_count": null,
   "metadata": {},
   "outputs": [],
   "source": []
  },
  {
   "cell_type": "code",
   "execution_count": null,
   "metadata": {},
   "outputs": [],
   "source": []
  }
 ],
 "metadata": {
  "kernelspec": {
   "display_name": "Julia (6 threads) 1.6.3",
   "language": "julia",
   "name": "julia-(6-threads)-1.6"
  },
  "language_info": {
   "file_extension": ".jl",
   "mimetype": "application/julia",
   "name": "julia",
   "version": "1.6.3"
  }
 },
 "nbformat": 4,
 "nbformat_minor": 4
}
